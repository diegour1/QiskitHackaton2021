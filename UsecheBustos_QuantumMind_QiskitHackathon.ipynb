{
  "nbformat": 4,
  "nbformat_minor": 0,
  "metadata": {
    "colab": {
      "name": "UsecheBustos_QuantumMind_QiskitHackathon.ipynb",
      "provenance": [],
      "collapsed_sections": [],
      "toc_visible": true
    },
    "kernelspec": {
      "name": "python3",
      "display_name": "Python 3"
    },
    "language_info": {
      "name": "python"
    }
  },
  "cells": [
    {
      "cell_type": "markdown",
      "metadata": {
        "id": "Gjduwd_1mBcJ"
      },
      "source": [
        "# Project Notebook\n",
        "\n",
        "### \"Supervised classification based on expected values of density matrices in a quantum computer\"\n",
        "\n",
        "### Qiskit Fall Fest Hackathon\n",
        "\n",
        "---\n",
        "\n",
        "**Group: Quantum Mind UN**\n",
        "\n",
        "Diego Useche - diusecher@unal.edu.co\n",
        "\n",
        "Oscar Alberto Bustos B. - oabustosb@unal.edu.co"
      ]
    },
    {
      "cell_type": "markdown",
      "metadata": {
        "id": "bgwCOd1FMlVc"
      },
      "source": [
        "This project aims to construct shallow quanum circuits that can be used to perform the classification of images of handwritten digits. To do this, two approximations are explored: first, designing and running quantum circuits whose final measurements allow to build predictions; and second, the use of density matrices to determine, using Born's rule, the expected value of probability for each possible outcome. Our work is mainly based on *Fabio  A.  González,  Alejandro  Gallego,  Santiago  Toledo-Cortés, and Vladimir Vargas-Calderón. Learning with Density Matrices and Random Features. 2021*.\n",
        "\n",
        "**Main Contributions**\n",
        "\n",
        "\n",
        "\n",
        "*   Most quantum machine learning algorithms are based on pure states. Our algorithm is based on mixed states.\n",
        "*   We propose a quantum protocol to estimate the expected value of a (2^nx2^n) density matrix with a state.\n",
        "*   We implement the prediction phase of the supervised learning method Density Matrix Kernel Density Classification (DMKDC) [González2021].\n",
        "*   We apply the method to the classification \n",
        "of handwritten digit images (0 and 1)."
      ]
    },
    {
      "cell_type": "markdown",
      "metadata": {
        "id": "960xbJloPOwJ"
      },
      "source": [
        "## Libraries"
      ]
    },
    {
      "cell_type": "code",
      "metadata": {
        "colab": {
          "base_uri": "https://localhost:8080/"
        },
        "id": "q2foJkcPPOwJ",
        "outputId": "af6e9cfc-8905-44c0-e3b1-49427b8ef660"
      },
      "source": [
        "!pip install qiskit\n",
        "!pip install pylatexenc"
      ],
      "execution_count": null,
      "outputs": [
        {
          "output_type": "stream",
          "name": "stdout",
          "text": [
            "Collecting qiskit\n",
            "  Downloading qiskit-0.31.0.tar.gz (13 kB)\n",
            "Collecting qiskit-terra==0.18.3\n",
            "  Downloading qiskit_terra-0.18.3-cp37-cp37m-manylinux2010_x86_64.whl (6.1 MB)\n",
            "\u001b[K     |████████████████████████████████| 6.1 MB 5.8 MB/s \n",
            "\u001b[?25hCollecting qiskit-aer==0.9.1\n",
            "  Downloading qiskit_aer-0.9.1-cp37-cp37m-manylinux_2_12_x86_64.manylinux2010_x86_64.whl (17.9 MB)\n",
            "\u001b[K     |████████████████████████████████| 17.9 MB 116 kB/s \n",
            "\u001b[?25hCollecting qiskit-ibmq-provider==0.17.0\n",
            "  Downloading qiskit_ibmq_provider-0.17.0-py3-none-any.whl (236 kB)\n",
            "\u001b[K     |████████████████████████████████| 236 kB 83.4 MB/s \n",
            "\u001b[?25hCollecting qiskit-ignis==0.6.0\n",
            "  Downloading qiskit_ignis-0.6.0-py3-none-any.whl (207 kB)\n",
            "\u001b[K     |████████████████████████████████| 207 kB 29.6 MB/s \n",
            "\u001b[?25hCollecting qiskit-aqua==0.9.5\n",
            "  Downloading qiskit_aqua-0.9.5-py3-none-any.whl (2.1 MB)\n",
            "\u001b[K     |████████████████████████████████| 2.1 MB 33.4 MB/s \n",
            "\u001b[?25hRequirement already satisfied: scipy>=1.0 in /usr/local/lib/python3.7/dist-packages (from qiskit-aer==0.9.1->qiskit) (1.4.1)\n",
            "Requirement already satisfied: numpy>=1.16.3 in /usr/local/lib/python3.7/dist-packages (from qiskit-aer==0.9.1->qiskit) (1.19.5)\n",
            "Requirement already satisfied: sympy>=1.3 in /usr/local/lib/python3.7/dist-packages (from qiskit-aqua==0.9.5->qiskit) (1.7.1)\n",
            "Requirement already satisfied: fastdtw<=0.3.4 in /usr/local/lib/python3.7/dist-packages (from qiskit-aqua==0.9.5->qiskit) (0.3.4)\n",
            "Requirement already satisfied: pandas in /usr/local/lib/python3.7/dist-packages (from qiskit-aqua==0.9.5->qiskit) (1.1.5)\n",
            "Requirement already satisfied: psutil>=5 in /usr/local/lib/python3.7/dist-packages (from qiskit-aqua==0.9.5->qiskit) (5.4.8)\n",
            "Collecting dlx<=1.0.4\n",
            "  Downloading dlx-1.0.4.tar.gz (5.5 kB)\n",
            "Requirement already satisfied: scikit-learn>=0.20.0 in /usr/local/lib/python3.7/dist-packages (from qiskit-aqua==0.9.5->qiskit) (0.22.2.post1)\n",
            "Collecting quandl\n",
            "  Downloading Quandl-3.6.1-py2.py3-none-any.whl (26 kB)\n",
            "Collecting docplex>=2.21.207\n",
            "  Downloading docplex-2.22.213.tar.gz (634 kB)\n",
            "\u001b[K     |████████████████████████████████| 634 kB 87.8 MB/s \n",
            "\u001b[?25hRequirement already satisfied: setuptools>=40.1.0 in /usr/local/lib/python3.7/dist-packages (from qiskit-aqua==0.9.5->qiskit) (57.4.0)\n",
            "Collecting yfinance>=0.1.62\n",
            "  Downloading yfinance-0.1.64.tar.gz (26 kB)\n",
            "Collecting retworkx>=0.8.0\n",
            "  Downloading retworkx-0.10.2-cp37-cp37m-manylinux_2_5_x86_64.manylinux1_x86_64.manylinux_2_12_x86_64.manylinux2010_x86_64.whl (1.4 MB)\n",
            "\u001b[K     |████████████████████████████████| 1.4 MB 52.4 MB/s \n",
            "\u001b[?25hRequirement already satisfied: h5py<3.3.0 in /usr/local/lib/python3.7/dist-packages (from qiskit-aqua==0.9.5->qiskit) (3.1.0)\n",
            "Collecting websocket-client>=1.0.1\n",
            "  Downloading websocket_client-1.2.1-py2.py3-none-any.whl (52 kB)\n",
            "\u001b[K     |████████████████████████████████| 52 kB 2.1 MB/s \n",
            "\u001b[?25hRequirement already satisfied: requests>=2.19 in /usr/local/lib/python3.7/dist-packages (from qiskit-ibmq-provider==0.17.0->qiskit) (2.23.0)\n",
            "Collecting requests-ntlm>=1.1.0\n",
            "  Downloading requests_ntlm-1.1.0-py2.py3-none-any.whl (5.7 kB)\n",
            "Requirement already satisfied: python-dateutil>=2.8.0 in /usr/local/lib/python3.7/dist-packages (from qiskit-ibmq-provider==0.17.0->qiskit) (2.8.2)\n",
            "Requirement already satisfied: urllib3>=1.21.1 in /usr/local/lib/python3.7/dist-packages (from qiskit-ibmq-provider==0.17.0->qiskit) (1.24.3)\n",
            "Collecting ply>=3.10\n",
            "  Downloading ply-3.11-py2.py3-none-any.whl (49 kB)\n",
            "\u001b[K     |████████████████████████████████| 49 kB 7.9 MB/s \n",
            "\u001b[?25hRequirement already satisfied: jsonschema>=2.6 in /usr/local/lib/python3.7/dist-packages (from qiskit-terra==0.18.3->qiskit) (2.6.0)\n",
            "Collecting python-constraint>=1.4\n",
            "  Downloading python-constraint-1.4.0.tar.bz2 (18 kB)\n",
            "Collecting tweedledum<2.0,>=1.1\n",
            "  Downloading tweedledum-1.1.1-cp37-cp37m-manylinux_2_12_x86_64.manylinux2010_x86_64.whl (943 kB)\n",
            "\u001b[K     |████████████████████████████████| 943 kB 88.5 MB/s \n",
            "\u001b[?25hCollecting symengine>0.7\n",
            "  Downloading symengine-0.8.1-cp37-cp37m-manylinux2010_x86_64.whl (38.2 MB)\n",
            "\u001b[K     |████████████████████████████████| 38.2 MB 20 kB/s \n",
            "\u001b[?25hCollecting fastjsonschema>=2.10\n",
            "  Downloading fastjsonschema-2.15.1-py3-none-any.whl (21 kB)\n",
            "Requirement already satisfied: dill>=0.3 in /usr/local/lib/python3.7/dist-packages (from qiskit-terra==0.18.3->qiskit) (0.3.4)\n",
            "Requirement already satisfied: six in /usr/local/lib/python3.7/dist-packages (from docplex>=2.21.207->qiskit-aqua==0.9.5->qiskit) (1.15.0)\n",
            "Requirement already satisfied: cached-property in /usr/local/lib/python3.7/dist-packages (from h5py<3.3.0->qiskit-aqua==0.9.5->qiskit) (1.5.2)\n",
            "Requirement already satisfied: certifi>=2017.4.17 in /usr/local/lib/python3.7/dist-packages (from requests>=2.19->qiskit-ibmq-provider==0.17.0->qiskit) (2021.5.30)\n",
            "Requirement already satisfied: chardet<4,>=3.0.2 in /usr/local/lib/python3.7/dist-packages (from requests>=2.19->qiskit-ibmq-provider==0.17.0->qiskit) (3.0.4)\n",
            "Requirement already satisfied: idna<3,>=2.5 in /usr/local/lib/python3.7/dist-packages (from requests>=2.19->qiskit-ibmq-provider==0.17.0->qiskit) (2.10)\n",
            "Collecting ntlm-auth>=1.0.2\n",
            "  Downloading ntlm_auth-1.5.0-py2.py3-none-any.whl (29 kB)\n",
            "Collecting cryptography>=1.3\n",
            "  Downloading cryptography-35.0.0-cp36-abi3-manylinux_2_24_x86_64.whl (3.5 MB)\n",
            "\u001b[K     |████████████████████████████████| 3.5 MB 41.5 MB/s \n",
            "\u001b[?25hRequirement already satisfied: cffi>=1.12 in /usr/local/lib/python3.7/dist-packages (from cryptography>=1.3->requests-ntlm>=1.1.0->qiskit-ibmq-provider==0.17.0->qiskit) (1.14.6)\n",
            "Requirement already satisfied: pycparser in /usr/local/lib/python3.7/dist-packages (from cffi>=1.12->cryptography>=1.3->requests-ntlm>=1.1.0->qiskit-ibmq-provider==0.17.0->qiskit) (2.20)\n",
            "Requirement already satisfied: joblib>=0.11 in /usr/local/lib/python3.7/dist-packages (from scikit-learn>=0.20.0->qiskit-aqua==0.9.5->qiskit) (1.0.1)\n",
            "Requirement already satisfied: mpmath>=0.19 in /usr/local/lib/python3.7/dist-packages (from sympy>=1.3->qiskit-aqua==0.9.5->qiskit) (1.2.1)\n",
            "Requirement already satisfied: multitasking>=0.0.7 in /usr/local/lib/python3.7/dist-packages (from yfinance>=0.1.62->qiskit-aqua==0.9.5->qiskit) (0.0.9)\n",
            "Collecting lxml>=4.5.1\n",
            "  Downloading lxml-4.6.3-cp37-cp37m-manylinux2014_x86_64.whl (6.3 MB)\n",
            "\u001b[K     |████████████████████████████████| 6.3 MB 20.6 MB/s \n",
            "\u001b[?25hRequirement already satisfied: pytz>=2017.2 in /usr/local/lib/python3.7/dist-packages (from pandas->qiskit-aqua==0.9.5->qiskit) (2018.9)\n",
            "Requirement already satisfied: more-itertools in /usr/local/lib/python3.7/dist-packages (from quandl->qiskit-aqua==0.9.5->qiskit) (8.10.0)\n",
            "Collecting inflection>=0.3.1\n",
            "  Downloading inflection-0.5.1-py2.py3-none-any.whl (9.5 kB)\n",
            "Building wheels for collected packages: qiskit, dlx, docplex, python-constraint, yfinance\n",
            "  Building wheel for qiskit (setup.py) ... \u001b[?25l\u001b[?25hdone\n",
            "  Created wheel for qiskit: filename=qiskit-0.31.0-py3-none-any.whl size=11728 sha256=a22fcccae17c9f47d1128c1d45444b3d6867cd1e876093fe68e77327ec29bd73\n",
            "  Stored in directory: /root/.cache/pip/wheels/29/dd/b2/1fe1a9ac92aaf75b267d893ae27329ea229f292a293017afc7\n",
            "  Building wheel for dlx (setup.py) ... \u001b[?25l\u001b[?25hdone\n",
            "  Created wheel for dlx: filename=dlx-1.0.4-py3-none-any.whl size=5719 sha256=e230a5abbcd18b21b64d377a27c3a2274645655cea0f1d86acbf94df468003cc\n",
            "  Stored in directory: /root/.cache/pip/wheels/78/55/c8/dc61e772445a566b7608a476d151e9dcaf4e092b01b0c4bc3c\n",
            "  Building wheel for docplex (setup.py) ... \u001b[?25l\u001b[?25hdone\n",
            "  Created wheel for docplex: filename=docplex-2.22.213-py3-none-any.whl size=696881 sha256=db6c2c34b4bd4e7db3d94b8fcc117e5410227edd1ea2517c5cc9b9d41938b339\n",
            "  Stored in directory: /root/.cache/pip/wheels/90/69/6b/1375c68a5b7ff94c40263b151c86f58bd72200bf0c465b5ba3\n",
            "  Building wheel for python-constraint (setup.py) ... \u001b[?25l\u001b[?25hdone\n",
            "  Created wheel for python-constraint: filename=python_constraint-1.4.0-py2.py3-none-any.whl size=24081 sha256=8d7466514f654cb69b4291ef58a3e6151deec83c81a41efda7a2f7c609931b84\n",
            "  Stored in directory: /root/.cache/pip/wheels/07/27/db/1222c80eb1e431f3d2199c12569cb1cac60f562a451fe30479\n",
            "  Building wheel for yfinance (setup.py) ... \u001b[?25l\u001b[?25hdone\n",
            "  Created wheel for yfinance: filename=yfinance-0.1.64-py2.py3-none-any.whl size=24109 sha256=c5b0b5e47539717464a2e36b495e9b70285dd9788110dffbdada863b874a5e5c\n",
            "  Stored in directory: /root/.cache/pip/wheels/86/fe/9b/a4d3d78796b699e37065e5b6c27b75cff448ddb8b24943c288\n",
            "Successfully built qiskit dlx docplex python-constraint yfinance\n",
            "Installing collected packages: tweedledum, symengine, retworkx, python-constraint, ply, fastjsonschema, qiskit-terra, ntlm-auth, lxml, inflection, cryptography, yfinance, websocket-client, requests-ntlm, quandl, qiskit-ignis, docplex, dlx, qiskit-ibmq-provider, qiskit-aqua, qiskit-aer, qiskit\n",
            "  Attempting uninstall: lxml\n",
            "    Found existing installation: lxml 4.2.6\n",
            "    Uninstalling lxml-4.2.6:\n",
            "      Successfully uninstalled lxml-4.2.6\n",
            "Successfully installed cryptography-35.0.0 dlx-1.0.4 docplex-2.22.213 fastjsonschema-2.15.1 inflection-0.5.1 lxml-4.6.3 ntlm-auth-1.5.0 ply-3.11 python-constraint-1.4.0 qiskit-0.31.0 qiskit-aer-0.9.1 qiskit-aqua-0.9.5 qiskit-ibmq-provider-0.17.0 qiskit-ignis-0.6.0 qiskit-terra-0.18.3 quandl-3.6.1 requests-ntlm-1.1.0 retworkx-0.10.2 symengine-0.8.1 tweedledum-1.1.1 websocket-client-1.2.1 yfinance-0.1.64\n",
            "Collecting pylatexenc\n",
            "  Downloading pylatexenc-2.10.tar.gz (162 kB)\n",
            "\u001b[K     |████████████████████████████████| 162 kB 8.6 MB/s \n",
            "\u001b[?25hBuilding wheels for collected packages: pylatexenc\n",
            "  Building wheel for pylatexenc (setup.py) ... \u001b[?25l\u001b[?25hdone\n",
            "  Created wheel for pylatexenc: filename=pylatexenc-2.10-py3-none-any.whl size=136833 sha256=8b3dbfa3efbdb9cd5b8dca2f51d8abfa126830941753d5ce5e61cbfa8e29047e\n",
            "  Stored in directory: /root/.cache/pip/wheels/f1/8a/f5/33ee79d4473eb201b519fa40f989b842e373237395a3421f52\n",
            "Successfully built pylatexenc\n",
            "Installing collected packages: pylatexenc\n",
            "Successfully installed pylatexenc-2.10\n"
          ]
        }
      ]
    },
    {
      "cell_type": "code",
      "metadata": {
        "id": "60PxDXvePOwK"
      },
      "source": [
        "from qiskit import QuantumCircuit\n",
        "from qiskit.quantum_info import Statevector\n",
        "from qiskit.visualization import plot_bloch_multivector\n",
        "from qiskit import QuantumCircuit, Aer, execute\n",
        "from qiskit.visualization import plot_histogram\n",
        "#from qiskit import *\n",
        "import numpy as np\n",
        "backend = Aer.get_backend('qasm_simulator')"
      ],
      "execution_count": null,
      "outputs": []
    },
    {
      "cell_type": "markdown",
      "metadata": {
        "id": "9XvlTaTpSEVB"
      },
      "source": [
        "## Utils Functions"
      ]
    },
    {
      "cell_type": "code",
      "metadata": {
        "id": "WGdkgNjhPOwL"
      },
      "source": [
        "# Given the density matrix find the angle of the corresponding rotation\n",
        "def measure_theta(P):\n",
        "  w0, v0 = np.linalg.eig(P)\n",
        "  v0 = v0*np.sign(v0[0, 0])\n",
        "  theta = np.sign(v0[0, 0])*np.sign(v0[1, 0])*2*np.arccos(abs(v0[0, 0]))\n",
        "  return theta\n",
        "\n",
        "# measure_theta(P_1)"
      ],
      "execution_count": null,
      "outputs": []
    },
    {
      "cell_type": "code",
      "metadata": {
        "colab": {
          "base_uri": "https://localhost:8080/"
        },
        "id": "ibi90075POwL",
        "outputId": "3a61ef2c-2d47-4ff1-f7c0-6d0fbed7390f"
      },
      "source": [
        "# Given an rotation angle in the y axis, print its unitary matrix\n",
        "def unitary_matrix(theta):\n",
        "  qc = QuantumCircuit(1, 1)\n",
        "  qc.ry(theta, 0)\n",
        "  unitary_backend = Aer.get_backend('unitary_simulator')\n",
        "  unitary = execute(qc, unitary_backend).result().get_unitary().round(10)\n",
        "  return unitary\n",
        "\n",
        "#unitary_matrix(-1.0013820370897397)\n",
        "unitary_matrix(1.047184849024927)"
      ],
      "execution_count": null,
      "outputs": [
        {
          "output_type": "execute_result",
          "data": {
            "text/plain": [
              "array([[ 0.86602858+0.j, -0.4999945 +0.j],\n",
              "       [ 0.4999945 +0.j,  0.86602858+0.j]])"
            ]
          },
          "metadata": {},
          "execution_count": 4
        }
      ]
    },
    {
      "cell_type": "code",
      "metadata": {
        "id": "HAizozoEPOwL"
      },
      "source": [
        "import copy\n",
        "def round_lambda(lambda_param_2):\n",
        "  lambda_param = copy.copy(lambda_param_2)\n",
        "  for i in range(4):\n",
        "    if lambda_param[i] < 0.00000001:\n",
        "      lambda_param[i] = 0.00000001\n",
        "  lambda_param[3] = 1 - lambda_param[0] - lambda_param[1] - lambda_param[2]\n",
        "  return lambda_param"
      ],
      "execution_count": null,
      "outputs": []
    },
    {
      "cell_type": "markdown",
      "metadata": {
        "id": "cyDDyxrPPOwM"
      },
      "source": [
        "## Initializations"
      ]
    },
    {
      "cell_type": "markdown",
      "metadata": {
        "id": "1JO2y3HSIowL"
      },
      "source": [
        "Inicializador de dos qubits"
      ]
    },
    {
      "cell_type": "code",
      "metadata": {
        "id": "v1ATBQ6jPOwM"
      },
      "source": [
        "from qiskit import QuantumRegister, ClassicalRegister, QuantumCircuit"
      ],
      "execution_count": null,
      "outputs": []
    },
    {
      "cell_type": "code",
      "metadata": {
        "id": "EA-znY0MPOwM"
      },
      "source": [
        "def ArbRot(p0, p1, p2, p3):\n",
        "    qr = QuantumRegister(2)\n",
        "    qc = QuantumCircuit(qr)\n",
        "\n",
        "    ang0 = 2*np.arccos(np.sqrt(p0+p1))\n",
        "    qc.rx(ang0, qr[1])\n",
        "    ang1 = 2*np.arccos(np.sqrt(p0/(p0+p1)))\n",
        "    qc.rx(ang1, qr[0])\n",
        "    ang2 = 2*np.arccos(np.sqrt(p2/(p2+p3))) - ang1\n",
        "    qc.crx(ang2, qr[1], qr[0])\n",
        "    #qc.swap(qr[0], qr[1])\n",
        "\n",
        "    gate = qc.to_gate()\n",
        "    gate.label = \"ArbInit\"\n",
        "    return gate"
      ],
      "execution_count": null,
      "outputs": []
    },
    {
      "cell_type": "code",
      "metadata": {
        "id": "RKZyuqj2POwN"
      },
      "source": [
        "def ArbRotControlled(p0, p1, p2, p3):\n",
        "    qr = QuantumRegister(3)\n",
        "    qc = QuantumCircuit(qr)\n",
        "\n",
        "    ang0 = 2*np.arccos(np.sqrt(p0+p1))\n",
        "    qc.crx(ang0, qr[0],  qr[2])\n",
        "    ang1 = 2*np.arccos(np.sqrt(p0/(p0+p1)))\n",
        "    qc.crx(ang1, qr[0], qr[1])\n",
        "    ang2 = 2*np.arccos(np.sqrt(p2/(p2+p3))) - ang1\n",
        "    qc.mcrx(ang2, [qr[0], qr[2]], qr[1])\n",
        "    #qc.swap(qr[0], qr[1])\n",
        "\n",
        "    gate = qc.to_gate()\n",
        "    gate.label = \"ArbInit\"\n",
        "    return gate"
      ],
      "execution_count": null,
      "outputs": []
    },
    {
      "cell_type": "code",
      "metadata": {
        "id": "WNwpUR3LPOwN"
      },
      "source": [
        "def ArbRotControlledTranspose(p0, p1, p2, p3):\n",
        "    qr = QuantumRegister(3)\n",
        "    qc = QuantumCircuit(qr)\n",
        "\n",
        "    ang0 = 2*np.arccos(np.sqrt(p0+p1))\n",
        "    qc.crx(-ang0, qr[0],  qr[2])\n",
        "    ang1 = 2*np.arccos(np.sqrt(p0/(p0+p1)))\n",
        "    qc.crx(-ang1, qr[0], qr[1])\n",
        "    ang2 = 2*np.arccos(np.sqrt(p2/(p2+p3))) - ang1\n",
        "    qc.mcrx(-ang2, [qr[0], qr[2]], qr[1])\n",
        "    #qc.swap(qr[0], qr[1])\n",
        "\n",
        "    gate = qc.to_gate()\n",
        "    gate.label = \"ArbInit\"\n",
        "    return gate"
      ],
      "execution_count": null,
      "outputs": []
    },
    {
      "cell_type": "code",
      "metadata": {
        "id": "l6FBncXQPOwO"
      },
      "source": [
        "def ArbRotToffTranspose(p0, p1, p2, p3):\n",
        "    qr = QuantumRegister(4)\n",
        "    qc = QuantumCircuit(qr)\n",
        "\n",
        "    ang0 = 2*np.arccos(np.sqrt(p0+p1))\n",
        "    qc.mcrx(-ang0, [qr[0], qr[1]],  qr[3])\n",
        "    ang1 = 2*np.arccos(np.sqrt(p0/(p0+p1)))\n",
        "    qc.mcrx(-ang1, [qr[0], qr[1]], qr[2])\n",
        "    ang2 = 2*np.arccos(np.sqrt(p2/(p2+p3))) - ang1\n",
        "    qc.mcrx(-ang2, [qr[0], qr[1], qr[3]], qr[2])\n",
        "    #qc.swap(qr[0], qr[1])\n",
        "\n",
        "    gate = qc.to_gate()\n",
        "    gate.label = \"ArbInitCT\"\n",
        "    return gate"
      ],
      "execution_count": null,
      "outputs": []
    },
    {
      "cell_type": "code",
      "metadata": {
        "id": "LdQtNwPrPOwO"
      },
      "source": [
        "def ArbRotToffM2Transpose(p0, p1, p2, p3):\n",
        "    qr = QuantumRegister(5)\n",
        "    qc = QuantumCircuit(qr)\n",
        "\n",
        "    ang0 = 2*np.arccos(np.sqrt(p0+p1))\n",
        "    qc.mcrx(-ang0, [qr[0], qr[1], qr[2]],  qr[4])\n",
        "    ang1 = 2*np.arccos(np.sqrt(p0/(p0+p1)))\n",
        "    qc.mcrx(-ang1, [qr[0], qr[1], qr[2]], qr[3])\n",
        "    ang2 = 2*np.arccos(np.sqrt(p2/(p2+p3))) - ang1\n",
        "    qc.mcrx(-ang2, [qr[0], qr[1], qr[2], qr[4]], qr[3])\n",
        "    #qc.swap(qr[0], qr[1])\n",
        "\n",
        "    gate = qc.to_gate()\n",
        "    gate.label = \"ArbInitCT\"\n",
        "    return gate"
      ],
      "execution_count": null,
      "outputs": []
    },
    {
      "cell_type": "markdown",
      "metadata": {
        "id": "SBokIbD1amC3"
      },
      "source": [
        "## Expected Value Density Matrix 2x2"
      ]
    },
    {
      "cell_type": "code",
      "metadata": {
        "id": "8Ej_TPtoaqet"
      },
      "source": [
        "a0 = np.array([0.30507657, 0.9523278250881023])\n",
        "b0 = np.array([0.75399555, 0.6568795251643924])\n",
        "c0 = np.array([0.50986323, 0.8602554775727772])"
      ],
      "execution_count": null,
      "outputs": []
    },
    {
      "cell_type": "code",
      "metadata": {
        "colab": {
          "base_uri": "https://localhost:8080/"
        },
        "id": "pVRrsI2RbD-r",
        "outputId": "9cbff165-d5fb-4bed-b700-2c3975b542c5"
      },
      "source": [
        "P0 = 0.35*np.outer(a0, a0) + 0.65*np.outer(b0, b0)\n",
        "exp_c = c0.T @ P0 @ c0\n",
        "\n",
        "P0, exp_c"
      ],
      "execution_count": null,
      "outputs": [
        {
          "output_type": "execute_result",
          "data": {
            "text/plain": [
              "(array([[0.40210614, 0.42362127],\n",
              "        [0.42362127, 0.59789386]]), 0.9186080711795597)"
            ]
          },
          "metadata": {},
          "execution_count": 17
        }
      ]
    },
    {
      "cell_type": "code",
      "metadata": {
        "colab": {
          "base_uri": "https://localhost:8080/"
        },
        "id": "UhALuV6pOJYu",
        "outputId": "e5bda79b-9994-40c0-955e-c30f58100b57"
      },
      "source": [
        "# Find eigenvectors and eigenvalues\n",
        "lambda_P, U = np.linalg.eigh(P0)\n",
        "\n",
        "lambda_P, U"
      ],
      "execution_count": null,
      "outputs": [
        {
          "output_type": "execute_result",
          "data": {
            "text/plain": [
              "(array([0.06521478, 0.93478522]), array([[-0.78267315,  0.62243292],\n",
              "        [ 0.62243292,  0.78267315]]))"
            ]
          },
          "metadata": {},
          "execution_count": 18
        }
      ]
    },
    {
      "cell_type": "code",
      "metadata": {
        "colab": {
          "base_uri": "https://localhost:8080/"
        },
        "id": "Dt-f90GPdmY-",
        "outputId": "47bbedc9-ca6c-45e1-fafe-c003e295291e"
      },
      "source": [
        "vector_0, vector_1 = U[:, 0], U[:, 1]\n",
        "\n",
        "vector_0, vector_1, 0.5*np.dot(vector_0, a0)**2, 0.5*np.dot(vector_1, b0)**2"
      ],
      "execution_count": null,
      "outputs": [
        {
          "output_type": "execute_result",
          "data": {
            "text/plain": [
              "(array([-0.78267315,  0.62243292]),\n",
              " array([0.62243292, 0.78267315]),\n",
              " 0.06265267056613329,\n",
              " 0.4835708408491834)"
            ]
          },
          "metadata": {},
          "execution_count": 20
        }
      ]
    },
    {
      "cell_type": "code",
      "metadata": {
        "colab": {
          "base_uri": "https://localhost:8080/"
        },
        "id": "_kUHqXxQhUw3",
        "outputId": "b6c33a9a-dd84-4ee2-e7f7-09e11e2b6821"
      },
      "source": [
        "0.5 * (np.dot(vector_0, c0)**2/(np.dot(vector_0, c0)**2+np.dot(vector_1, c0)**2))"
      ],
      "execution_count": null,
      "outputs": [
        {
          "output_type": "execute_result",
          "data": {
            "text/plain": [
              "0.009301806757675855"
            ]
          },
          "metadata": {},
          "execution_count": 22
        }
      ]
    },
    {
      "cell_type": "code",
      "metadata": {
        "colab": {
          "base_uri": "https://localhost:8080/"
        },
        "id": "ZSE-ZB7ubyKU",
        "outputId": "4bba3800-697d-4d92-bc16-1f00b63c5bea"
      },
      "source": [
        "theta_0, theta_1 = measure_theta(U), measure_theta(U.T)\n",
        "theta_0 = theta_0+np.pi\n",
        "theta_1 = theta_0-np.pi/2\n",
        "theta_0, theta_1"
      ],
      "execution_count": null,
      "outputs": [
        {
          "output_type": "execute_result",
          "data": {
            "text/plain": [
              "(2.4697453073741347, 0.8989489805792381)"
            ]
          },
          "metadata": {},
          "execution_count": 24
        }
      ]
    },
    {
      "cell_type": "code",
      "metadata": {
        "colab": {
          "base_uri": "https://localhost:8080/",
          "height": 323
        },
        "id": "JVF6h49dg80J",
        "outputId": "cdcfd2c9-b4f3-4bb6-e4be-86a80545ec37"
      },
      "source": [
        "qc = QuantumCircuit(1, 1)\n",
        "\n",
        "qc.ry(2*theta_0, 0)\n",
        "\n",
        "\n",
        "qc.measure(0, 0)\n",
        "\n",
        "counts = execute(qc, backend, shots=15000).result().get_counts()\n",
        "plot_histogram(counts)"
      ],
      "execution_count": null,
      "outputs": [
        {
          "output_type": "execute_result",
          "data": {
            "image/png": "[encoded data removed]",
            "text/plain": [
              "<Figure size 504x360 with 1 Axes>"
            ]
          },
          "metadata": {},
          "execution_count": 25
        }
      ]
    },
    {
      "cell_type": "code",
      "metadata": {
        "colab": {
          "base_uri": "https://localhost:8080/",
          "height": 331
        },
        "id": "NP9UTzMBPOwR",
        "outputId": "48676066-c1e9-413d-8337-e7b424cff22e"
      },
      "source": [
        "# 2 x 2 Example\n",
        "\n",
        "qc = QuantumCircuit(2, 2)\n",
        "\n",
        "qc.h(0)\n",
        "qc.x(0)\n",
        "qc.initialize(c0, 1)\n",
        "qc.cry(-(2*theta_0), 0,  1)\n",
        "qc.x(0)\n",
        "qc.cry(-(2*theta_1), 0,  1)\n",
        "qc.measure(0, 0)\n",
        "qc.measure(1, 1)\n",
        "\n",
        "counts = execute(qc, backend, shots=15000).result().get_counts()\n",
        "plot_histogram(counts)\n",
        "\n",
        "## Works"
      ],
      "execution_count": null,
      "outputs": [
        {
          "output_type": "execute_result",
          "data": {
            "image/png": "[encoded data removed]",
            "text/plain": [
              "<Figure size 504x360 with 1 Axes>"
            ]
          },
          "metadata": {},
          "execution_count": 26
        }
      ]
    },
    {
      "cell_type": "code",
      "metadata": {
        "colab": {
          "base_uri": "https://localhost:8080/",
          "height": 185
        },
        "id": "nPbE_SEFgCo7",
        "outputId": "c329c17b-2d67-43b3-bb36-40731708d38b"
      },
      "source": [
        "qc.draw('mpl')"
      ],
      "execution_count": null,
      "outputs": [
        {
          "output_type": "execute_result",
          "data": {
            "image/png": "[encoded data removed]",
            "text/plain": [
              "<Figure size 568.052x204.68 with 1 Axes>"
            ]
          },
          "metadata": {},
          "execution_count": 27
        }
      ]
    },
    {
      "cell_type": "markdown",
      "metadata": {
        "id": "06aiEG0bG2OG"
      },
      "source": [
        "### Circuit Density Matrix 2x2"
      ]
    },
    {
      "cell_type": "code",
      "metadata": {
        "colab": {
          "base_uri": "https://localhost:8080/",
          "height": 331
        },
        "id": "FPWd4hVQ7JPA",
        "outputId": "57ff8d1b-6fcf-499c-c3bd-7f1473ea3797"
      },
      "source": [
        "# 2 x 2 Example with eigenvalues\n",
        "backend = Aer.get_backend('qasm_simulator')\n",
        "qc = QuantumCircuit(3, 2)\n",
        "\n",
        "qc.h(0)\n",
        "qc.initialize(c0, 1)\n",
        "qc.initialize(np.sqrt(lambda_P), 2)\n",
        "qc.barrier()\n",
        "qc.x(0)\n",
        "qc.cry(-(2*theta_0), 0,  1)\n",
        "qc.x(0)\n",
        "qc.cry(-(2*theta_1), 0,  1)\n",
        "qc.cx(0, 2)\n",
        "qc.barrier()\n",
        "qc.measure(1, 0)\n",
        "qc.measure(2, 1)\n",
        "\n",
        "counts = execute(qc, backend, shots=150000).result().get_counts()\n",
        "plot_histogram(counts)"
      ],
      "execution_count": null,
      "outputs": [
        {
          "output_type": "execute_result",
          "data": {
            "image/png": "[encoded data removed]",
            "text/plain": [
              "<Figure size 504x360 with 1 Axes>"
            ]
          },
          "metadata": {},
          "execution_count": 29
        }
      ]
    },
    {
      "cell_type": "code",
      "metadata": {
        "colab": {
          "base_uri": "https://localhost:8080/",
          "height": 231
        },
        "id": "jKiqOB7HoGvK",
        "outputId": "f9fa287a-1be6-40d2-95fd-969877863900"
      },
      "source": [
        "qc.draw('mpl')"
      ],
      "execution_count": null,
      "outputs": [
        {
          "output_type": "execute_result",
          "data": {
            "image/png": "[encoded data removed]",
            "text/plain": [
              "<Figure size 748.797x264.88 with 1 Axes>"
            ]
          },
          "metadata": {},
          "execution_count": 30
        }
      ]
    },
    {
      "cell_type": "code",
      "metadata": {
        "colab": {
          "base_uri": "https://localhost:8080/"
        },
        "id": "6b8H-ynn5Q5h",
        "outputId": "030e644f-3b60-4dbe-8bae-5cd3e5151c9b"
      },
      "source": [
        "# expected_value = (np.dot(vector_0, c0))**2 * lambda_P[0] + (np.dot(vector_1, c0))**2 * lambda_P[1]\n",
        "expected_value = c0.T @ P0 @ c0\n",
        "\n",
        "expected_value, (counts[\"00\"]/150000)*2"
      ],
      "execution_count": null,
      "outputs": [
        {
          "output_type": "execute_result",
          "data": {
            "text/plain": [
              "(0.9186080711795597, 0.9202666666666667)"
            ]
          },
          "metadata": {},
          "execution_count": 33
        }
      ]
    },
    {
      "cell_type": "markdown",
      "metadata": {
        "id": "aBTqR0dUHsOo"
      },
      "source": [
        "### Conclusion\n",
        "\n",
        "The expected value of the density matrix was 0.9186, the quantum circuit obtained 0.9203"
      ]
    },
    {
      "cell_type": "markdown",
      "metadata": {
        "id": "MPxIY8YAIEgp"
      },
      "source": [
        "## Expected Value Density Matrix 4x4"
      ]
    },
    {
      "cell_type": "code",
      "metadata": {
        "id": "64WTaMT66K1u",
        "colab": {
          "base_uri": "https://localhost:8080/"
        },
        "outputId": "f53e4043-c694-4abe-96ed-34c263715759"
      },
      "source": [
        "## Examples 4x4 , we build the density matrix with b, c, and predict the data a\n",
        "a0 = np.array([0.30507657, 0.9523278250881023])\n",
        "a1 = np.array([0.69810362, 0.715996742829809])\n",
        "b0 = np.array([0.75399555, 0.6568795251643924])\n",
        "b1 = np.array([0.53842219, 0.8426752312223279])\n",
        "c0 = np.array([0.50986323, 0.8602554775727772])\n",
        "c1 = np.array([0.58868076, 0.8083656120876385])\n",
        "\n",
        "a = np.kron(a0, a1)\n",
        "b = np.kron(b0, b1)\n",
        "c = np.kron(c0, c1)\n",
        "\n",
        "a, b, c"
      ],
      "execution_count": null,
      "outputs": [
        {
          "output_type": "execute_result",
          "data": {
            "text/plain": [
              "(array([0.21297506, 0.21843383, 0.6648235 , 0.68186362]),\n",
              " array([0.40596794, 0.63537337, 0.35367851, 0.55353611]),\n",
              " array([0.30014667, 0.4121559 , 0.50641585, 0.69540095]))"
            ]
          },
          "metadata": {},
          "execution_count": 34
        }
      ]
    },
    {
      "cell_type": "code",
      "metadata": {
        "colab": {
          "base_uri": "https://localhost:8080/"
        },
        "id": "6a_W7hdAzzOk",
        "outputId": "3cc0984e-8ad1-4793-a79b-a6f7762b8b60"
      },
      "source": [
        "# Density Matrix and expected value\n",
        "P4 = 0.56*np.outer(b, b) + 0.44*np.outer(c, c)\n",
        "exp_a = a.T @ P4 @ a\n",
        "\n",
        "P4, exp_a"
      ],
      "execution_count": null,
      "outputs": [
        {
          "output_type": "execute_result",
          "data": {
            "text/plain": [
              "(array([[0.13193231, 0.19887826, 0.14728557, 0.21767983],\n",
              "        [0.19887826, 0.30081552, 0.21767983, 0.32306316],\n",
              "        [0.14728557, 0.21767983, 0.18289064, 0.26458465],\n",
              "        [0.21767983, 0.32306316, 0.26458465, 0.38436153]]), 0.8026535900618249)"
            ]
          },
          "metadata": {},
          "execution_count": 35
        }
      ]
    },
    {
      "cell_type": "code",
      "metadata": {
        "colab": {
          "base_uri": "https://localhost:8080/"
        },
        "id": "0O3r-KZu0maG",
        "outputId": "a4bf9c92-f6d4-474e-a341-f10398d190ff"
      },
      "source": [
        "# Find eigenvectors and eigenvalues\n",
        "lambda_P4, U4 = np.linalg.eigh(P4)\n",
        "lambda_P4 = round_lambda(lambda_P4)\n",
        "lambda_P4, U4"
      ],
      "execution_count": null,
      "outputs": [
        {
          "output_type": "execute_result",
          "data": {
            "text/plain": [
              "(array([1.00000000e-08, 1.00000000e-08, 2.57332957e-02, 9.74266684e-01]),\n",
              " array([[-0.86865914, -0.10127904,  0.32009869, -0.36429477],\n",
              "        [ 0.45816754,  0.17746336,  0.67972932, -0.54457076],\n",
              "        [-0.08734651,  0.76104064, -0.48123093, -0.42615082],\n",
              "        [ 0.16698618, -0.61568373, -0.45157688, -0.62380084]]))"
            ]
          },
          "metadata": {},
          "execution_count": 36
        }
      ]
    },
    {
      "cell_type": "markdown",
      "metadata": {
        "id": "-hy0VpreILE5"
      },
      "source": [
        "### Circuit Density Matrix 4x4"
      ]
    },
    {
      "cell_type": "code",
      "metadata": {
        "colab": {
          "base_uri": "https://localhost:8080/",
          "height": 348
        },
        "id": "n6MsVvNV2AZa",
        "outputId": "80b9057b-ff5d-4286-d488-2c29953847f7"
      },
      "source": [
        "# 4 x 4 Example with eigenvalues\n",
        "backend = Aer.get_backend('qasm_simulator')\n",
        "qc = QuantumCircuit(6, 4)\n",
        "\n",
        "qc.h(0)\n",
        "qc.h(1)\n",
        "qc.append(ArbRot(*(a**2)), [2, 3])\n",
        "qc.append(ArbRot(*lambda_P4), [4, 5])\n",
        "qc.barrier()\n",
        "qc.x(0)\n",
        "qc.x(1)\n",
        "qc.append(ArbRotToffTranspose(*(U4[:, 0]**2)), [0, 1, 2, 3])\n",
        "qc.x(1)\n",
        "qc.append(ArbRotToffTranspose(*(U4[:, 1]**2)), [0, 1, 2, 3])\n",
        "qc.x(0)\n",
        "qc.x(1)\n",
        "qc.append(ArbRotToffTranspose(*(U4[:, 2]**2)), [0, 1, 2, 3])\n",
        "qc.x(1)\n",
        "qc.append(ArbRotToffTranspose(*(U4[:, 3]**2)), [0, 1, 2, 3])\n",
        "qc.cx(1, 5)\n",
        "qc.cx(0, 4)\n",
        "\n",
        "\n",
        "\n",
        "qc.measure(2, 0)\n",
        "qc.measure(3, 1)\n",
        "qc.measure(4, 2)\n",
        "qc.measure(5, 3)\n",
        "\n",
        "counts = execute(qc, backend, shots=150000).result().get_counts()\n",
        "plot_histogram(counts)"
      ],
      "execution_count": null,
      "outputs": [
        {
          "output_type": "execute_result",
          "data": {
            "image/png": "[encoded data removed]",
            "text/plain": [
              "<Figure size 504x360 with 1 Axes>"
            ]
          },
          "metadata": {},
          "execution_count": 52
        }
      ]
    },
    {
      "cell_type": "code",
      "metadata": {
        "colab": {
          "base_uri": "https://localhost:8080/",
          "height": 312
        },
        "id": "NCpug6yB2FsF",
        "outputId": "5e3ccc74-6d22-4cf7-9d37-8289bd0eeeda"
      },
      "source": [
        "qc.draw('mpl')"
      ],
      "execution_count": null,
      "outputs": [
        {
          "output_type": "execute_result",
          "data": {
            "image/png": "[encoded data removed]",
            "text/plain": [
              "<Figure size 1350.8x445.48 with 1 Axes>"
            ]
          },
          "metadata": {},
          "execution_count": 53
        }
      ]
    },
    {
      "cell_type": "code",
      "metadata": {
        "colab": {
          "base_uri": "https://localhost:8080/"
        },
        "id": "Rb6GZP-953iM",
        "outputId": "2a5def5f-4641-4dc3-add6-585a783b8ea0"
      },
      "source": [
        "exp_a_calculated = (counts[\"0000\"]/150000)*4\n",
        "exp_a_theorical = a.T @ P4 @ a\n",
        "\n",
        "exp_a_calculated, exp_a_theorical"
      ],
      "execution_count": null,
      "outputs": [
        {
          "output_type": "execute_result",
          "data": {
            "text/plain": [
              "(0.8113333333333334, 0.8026535900618249)"
            ]
          },
          "metadata": {},
          "execution_count": 54
        }
      ]
    },
    {
      "cell_type": "markdown",
      "metadata": {
        "id": "RTTvoxNeIcFA"
      },
      "source": [
        "### Conclusion\n",
        "\n",
        "The expected value of the density matrix was 0.8026, the quantum circuit obtained 0.8113"
      ]
    },
    {
      "cell_type": "markdown",
      "metadata": {
        "id": "9Gj3H2KaPOwV"
      },
      "source": [
        "## DMKDC Mixed State"
      ]
    },
    {
      "cell_type": "code",
      "metadata": {
        "colab": {
          "base_uri": "https://localhost:8080/"
        },
        "id": "s8MLbkMZPOwV",
        "outputId": "84d59cf4-117d-4152-a0c4-621eaad3f9ca"
      },
      "source": [
        "## Examples 4x4 , we build the density matrix of class 0 with b, c\n",
        "## the density matrix of class 1 with d, and predict the data a\n",
        "a0 = np.array([0.30507657, 0.9523278250881023])\n",
        "a1 = np.array([0.69810362, 0.715996742829809])\n",
        "b0 = np.array([0.75399555, 0.6568795251643924])\n",
        "b1 = np.array([0.53842219, 0.8426752312223279])\n",
        "c0 = np.array([0.50986323, 0.8602554775727772])\n",
        "c1 = np.array([0.58868076, 0.8083656120876385])\n",
        "d0 = np.array([0.10894686, 0.9940475751673762])\n",
        "d1 = np.array([0.38544095, 0.9227325040677268])\n",
        "\n",
        "a = np.kron(a0, a1)\n",
        "b = np.kron(b0, b1)\n",
        "c = np.kron(c0, c1)\n",
        "d = np.kron(d0, d1)\n",
        "\n",
        "a, b, c, d"
      ],
      "execution_count": null,
      "outputs": [
        {
          "output_type": "execute_result",
          "data": {
            "text/plain": [
              "(array([0.21297506, 0.21843383, 0.6648235 , 0.68186362]),\n",
              " array([0.40596794, 0.63537337, 0.35367851, 0.55353611]),\n",
              " array([0.30014667, 0.4121559 , 0.50641585, 0.69540095]),\n",
              " array([0.04199258, 0.10052881, 0.38314664, 0.91724001]))"
            ]
          },
          "metadata": {},
          "execution_count": 55
        }
      ]
    },
    {
      "cell_type": "code",
      "metadata": {
        "colab": {
          "base_uri": "https://localhost:8080/"
        },
        "id": "R_VSSc6ePOwW",
        "outputId": "eb8aa49e-dfbb-4856-fe46-ca67b8d16f13"
      },
      "source": [
        "# Density Matrix and expected value\n",
        "P0 = 0.66*np.outer(b, b) + 0.34*np.outer(c, c)\n",
        "P1 = np.outer(d, d)\n",
        "exp_a_P0 = a.T @ P0 @ a\n",
        "exp_a_P1 = a.T @ P1 @ a\n",
        "\n",
        "exp_a_P0, exp_a_P1"
      ],
      "execution_count": null,
      "outputs": [
        {
          "output_type": "execute_result",
          "data": {
            "text/plain": [
              "(0.7797639127048509, 0.8300298691432838)"
            ]
          },
          "metadata": {},
          "execution_count": 56
        }
      ]
    },
    {
      "cell_type": "code",
      "metadata": {
        "colab": {
          "base_uri": "https://localhost:8080/"
        },
        "id": "JzPqYZX1POwW",
        "outputId": "cca38525-f452-46fe-8442-058ce1d0a75f"
      },
      "source": [
        "# Find eigenvectors and eigenvalues\n",
        "lambda_P0_temp, U0 = np.linalg.eigh(P0)\n",
        "lambda_P0 = round_lambda(lambda_P0_temp)\n",
        "\n",
        "lambda_P1_temp, U1 = np.linalg.eigh(P1)\n",
        "lambda_P1 = round_lambda(lambda_P1_temp)\n",
        "\n",
        "(lambda_P0, U0), (lambda_P1, U1)"
      ],
      "execution_count": null,
      "outputs": [
        {
          "output_type": "execute_result",
          "data": {
            "text/plain": [
              "((array([1.00000000e-08, 1.00000000e-08, 2.33791892e-02, 9.76620791e-01]),\n",
              "  array([[-0.87216761, -0.06441905,  0.30773227, -0.37479955],\n",
              "         [ 0.4652687 ,  0.15791066,  0.66113058, -0.56700583],\n",
              "         [-0.05505435,  0.76405582, -0.49521815, -0.40981302],\n",
              "         [ 0.14077542, -0.62220022, -0.47219295, -0.60834446]])),\n",
              " (array([1.0000000e-08, 1.0000000e-08, 1.0000000e-08, 9.9999997e-01]),\n",
              "  array([[ 9.83875698e-01, -1.39235844e-01,  1.04108665e-01,\n",
              "           4.19925812e-02],\n",
              "         [ 1.14990435e-01,  1.08386414e-01, -9.82305219e-01,\n",
              "           1.00528809e-01],\n",
              "         [-1.36987705e-01, -9.10200323e-01, -7.72553661e-02,\n",
              "           3.83146642e-01],\n",
              "         [-4.24046728e-04,  3.74701397e-01,  1.35164532e-01,\n",
              "           9.17240008e-01]])))"
            ]
          },
          "metadata": {},
          "execution_count": 57
        }
      ]
    },
    {
      "cell_type": "markdown",
      "metadata": {
        "id": "NmGCNV-DJPCR"
      },
      "source": [
        "### Circuit DMKDC\n",
        "\n",
        "We add an additional qubit to encode the class"
      ]
    },
    {
      "cell_type": "code",
      "metadata": {
        "colab": {
          "base_uri": "https://localhost:8080/",
          "height": 356
        },
        "id": "xRpukPasPOwW",
        "outputId": "a07a32d1-7729-4d76-c619-30a0486061a1"
      },
      "source": [
        "# 4 x 4 Example with eigenvalues\n",
        "backend = Aer.get_backend('qasm_simulator')\n",
        "qc = QuantumCircuit(7, 5)\n",
        "\n",
        "qc.h(0)\n",
        "qc.h(1)\n",
        "qc.h(2)\n",
        "qc.append(ArbRot(*(a**2)), [3, 4])\n",
        "qc.barrier()\n",
        "qc.x(2)\n",
        "qc.x(0)\n",
        "qc.x(1)\n",
        "qc.append(ArbRotToffM2Transpose(*(U0[:, 0]**2)), [0, 1, 2, 3, 4])\n",
        "qc.x(1)\n",
        "qc.append(ArbRotToffM2Transpose(*(U0[:, 1]**2)), [0, 1, 2, 3, 4])\n",
        "qc.x(0)\n",
        "qc.x(1)\n",
        "qc.append(ArbRotToffM2Transpose(*(U0[:, 2]**2)), [0, 1, 2, 3, 4])\n",
        "qc.x(1)\n",
        "qc.append(ArbRotToffM2Transpose(*(U0[:, 3]**2)), [0, 1, 2, 3, 4])\n",
        "qc.append(ArbRotControlled(*lambda_P0), [2, 5, 6])\n",
        "\n",
        "qc.barrier()\n",
        "qc.x(2)\n",
        "qc.x(0)\n",
        "qc.x(1)\n",
        "qc.append(ArbRotToffM2Transpose(*(U1[:, 0]**2)), [0, 1, 2, 3, 4])\n",
        "qc.x(1)\n",
        "qc.append(ArbRotToffM2Transpose(*(U1[:, 1]**2)), [0, 1, 2, 3, 4])\n",
        "qc.x(0)\n",
        "qc.x(1)\n",
        "qc.append(ArbRotToffM2Transpose(*(U1[:, 2]**2)), [0, 1, 2, 3, 4])\n",
        "qc.x(1)\n",
        "qc.append(ArbRotToffM2Transpose(*(U1[:, 3]**2)), [0, 1, 2, 3, 4])\n",
        "qc.append(ArbRotControlled(*lambda_P1), [2, 5, 6])\n",
        "\n",
        "qc.cx(1, 6)\n",
        "qc.cx(0, 5)\n",
        "\n",
        "qc.barrier()\n",
        "\n",
        "qc.measure(2, 0)\n",
        "qc.measure(3, 1)\n",
        "qc.measure(4, 2)\n",
        "qc.measure(5, 3)\n",
        "qc.measure(6, 4)\n",
        "\n",
        "counts = execute(qc, backend, shots=150000).result().get_counts()\n",
        "plot_histogram(counts)"
      ],
      "execution_count": null,
      "outputs": [
        {
          "output_type": "execute_result",
          "data": {
            "image/png": "[encoded data removed]",
            "text/plain": [
              "<Figure size 504x360 with 1 Axes>"
            ]
          },
          "metadata": {},
          "execution_count": 73
        }
      ]
    },
    {
      "cell_type": "code",
      "metadata": {
        "colab": {
          "base_uri": "https://localhost:8080/",
          "height": 594
        },
        "id": "ZZAaOejsPOwX",
        "outputId": "4517690c-36cf-4b22-de2f-83618a06265f"
      },
      "source": [
        "qc.draw('mpl')"
      ],
      "execution_count": null,
      "outputs": [
        {
          "output_type": "execute_result",
          "data": {
            "image/png": "[encoded data removed]",
            "text/plain": [
              "<Figure size 1591.6x1047.48 with 1 Axes>"
            ]
          },
          "metadata": {},
          "execution_count": 74
        }
      ]
    },
    {
      "cell_type": "code",
      "metadata": {
        "colab": {
          "base_uri": "https://localhost:8080/"
        },
        "id": "YuKzsKc2POwX",
        "outputId": "9a05c7ec-0b07-4bc1-c9c4-8f8307e5573e"
      },
      "source": [
        "# Expected and calculated for class 0\n",
        "exp_a_calculated_P0 = (counts[\"00000\"]/150000)*8\n",
        "exp_a_theorical_P0 = a.T @ P0 @ a\n",
        "\n",
        "# Expected and calculated for class 1\n",
        "exp_a_calculated_P1 = (counts[\"00001\"]/150000)*8\n",
        "exp_a_theorical_P1 = a.T @ P1 @ a\n",
        "\n",
        "exp_a_calculated_P0, exp_a_theorical_P0, exp_a_calculated_P1, exp_a_theorical_P1"
      ],
      "execution_count": null,
      "outputs": [
        {
          "output_type": "execute_result",
          "data": {
            "text/plain": [
              "(0.7897066666666667, 0.7797639127048509, 0.83856, 0.8300298691432838)"
            ]
          },
          "metadata": {},
          "execution_count": 75
        }
      ]
    },
    {
      "cell_type": "markdown",
      "metadata": {
        "id": "C7a_3EgyJwqy"
      },
      "source": [
        "### Conclusion\n",
        "\n",
        "\n",
        "Class 0: The expected value of the density matrix was 0.7798, the quantum circuit obtained 0.7897\n",
        "\n",
        "Class 0: The expected value of the density matrix was 0.7798, the quantum circuit obtained 0.7897"
      ]
    },
    {
      "cell_type": "markdown",
      "metadata": {
        "id": "leaSVFAsfGh-"
      },
      "source": [
        "## Digits Dataset\n",
        "\n",
        "We will work with the Digits dataset, available from Scikit-Learn. We will build a binary classifier, so we will use only the data for digits 0 and 1. The revisted dataset consiste of 360 images: each image consist of 64 pixels, and all images are labeled, so we will do supervised learning for this dataset."
      ]
    },
    {
      "cell_type": "code",
      "metadata": {
        "id": "fkfaAKkGknz6"
      },
      "source": [
        "import matplotlib.pyplot as plt\n",
        "import numpy as np\n",
        "\n",
        "from sklearn import datasets\n",
        "from sklearn.decomposition import PCA"
      ],
      "execution_count": null,
      "outputs": []
    },
    {
      "cell_type": "code",
      "metadata": {
        "colab": {
          "base_uri": "https://localhost:8080/"
        },
        "id": "msrz_0k4fW_J",
        "outputId": "aae6c520-24c9-4f51-e6a8-969b782a40fc"
      },
      "source": [
        "digits, labels = datasets.load_digits(n_class=2, return_X_y=True)\n",
        "print(digits.shape)"
      ],
      "execution_count": null,
      "outputs": [
        {
          "output_type": "stream",
          "name": "stdout",
          "text": [
            "(360, 64)\n"
          ]
        }
      ]
    },
    {
      "cell_type": "code",
      "metadata": {
        "colab": {
          "base_uri": "https://localhost:8080/",
          "height": 152
        },
        "id": "dUA2lxxeFcGr",
        "outputId": "8b3580e8-9a15-4325-f4f1-cc394506c160"
      },
      "source": [
        "_, axes = plt.subplots(nrows=1, ncols=4, figsize=(10, 3))\n",
        "for ax, image, label in zip(axes, digits, labels):\n",
        "    ax.set_axis_off()\n",
        "    ax.imshow(image.reshape(8,8), cmap=plt.cm.gray_r, interpolation='nearest')"
      ],
      "execution_count": null,
      "outputs": [
        {
          "output_type": "display_data",
          "data": {
            "image/png": "[encoded data removed]",
            "text/plain": [
              "<Figure size 720x216 with 4 Axes>"
            ]
          },
          "metadata": {
            "needs_background": "light"
          }
        }
      ]
    },
    {
      "cell_type": "markdown",
      "metadata": {
        "id": "y_2uE7SCSyH2"
      },
      "source": [
        "We will apply dimensionality reduction on the entire data set. For this we will use the PCA method found in Scikit-Learn. We will build a graph in which the variance generated by the first principal components is shown."
      ]
    },
    {
      "cell_type": "code",
      "metadata": {
        "colab": {
          "base_uri": "https://localhost:8080/",
          "height": 389
        },
        "id": "3fVlvF6Bf3IY",
        "outputId": "68dcdca9-4f9d-41e7-9ae3-d2eb5e2494c7"
      },
      "source": [
        "sklearn_pca = PCA(n_components=64)\n",
        "sklearn_transf = sklearn_pca.fit_transform(digits)\n",
        "varianza_expl = sklearn_pca.explained_variance_ratio_\n",
        "\n",
        "plt.figure(figsize = (9, 6))\n",
        "plt.xlabel('Número de componentes principales')\n",
        "plt.ylabel('Varianza acumulada')\n",
        "\n",
        "cum_var_exp = np.cumsum(varianza_expl)\n",
        "nc = np.arange(1, varianza_expl.shape[0] + 1)\n",
        "plt.plot(nc, cum_var_exp, 'g^')\n",
        "\n",
        "plt.show()"
      ],
      "execution_count": null,
      "outputs": [
        {
          "output_type": "display_data",
          "data": {
            "image/png": "[encoded data removed]",
            "text/plain": [
              "<Figure size 648x432 with 1 Axes>"
            ]
          },
          "metadata": {
            "needs_background": "light"
          }
        }
      ]
    },
    {
      "cell_type": "code",
      "metadata": {
        "colab": {
          "base_uri": "https://localhost:8080/"
        },
        "id": "T5uJsTHrgmQm",
        "outputId": "882be464-b254-4802-cdaf-ec1dbab3763c"
      },
      "source": [
        "print(np.sum(varianza_expl[0:4]), np.sum(varianza_expl[0:8]),\n",
        "      np.sum(varianza_expl[0:16]), np.sum(varianza_expl[0:32])) "
      ],
      "execution_count": null,
      "outputs": [
        {
          "output_type": "stream",
          "name": "stdout",
          "text": [
            "0.7343821751814189 0.8488897097986975 0.9349381446651397 0.9865762881675042\n"
          ]
        }
      ]
    },
    {
      "cell_type": "markdown",
      "metadata": {
        "id": "JJIhgSRPTU8O"
      },
      "source": [
        "We choose to use only four principal components, that concentrate 73.44% of the variance of the data. Transforming each image into an array of four values will allow us to convert those values into two-qubit states in a later step."
      ]
    },
    {
      "cell_type": "code",
      "metadata": {
        "colab": {
          "base_uri": "https://localhost:8080/",
          "height": 156
        },
        "id": "l9BSObLkgu3F",
        "outputId": "aae86760-b65e-4d9d-ebb2-61df6d03f82e"
      },
      "source": [
        "n_comps = 4\n",
        "pca = PCA(n_components = n_comps)\n",
        "Xpca = pca.fit_transform(digits)\n",
        "\n",
        "plt.figure(figsize=(10,2.5))\n",
        "for i in range(4):\n",
        "    plt.subplot(1,4,i+1)\n",
        "    plt.imshow(pca.components_[i].reshape(8,8), cmap=plt.cm.gray)\n",
        "    plt.xticks([]); plt.yticks([])\n"
      ],
      "execution_count": null,
      "outputs": [
        {
          "output_type": "display_data",
          "data": {
            "image/png": "[encoded data removed]",
            "text/plain": [
              "<Figure size 720x180 with 4 Axes>"
            ]
          },
          "metadata": {}
        }
      ]
    },
    {
      "cell_type": "code",
      "metadata": {
        "colab": {
          "base_uri": "https://localhost:8080/"
        },
        "id": "wl0zChNIhki2",
        "outputId": "50345818-5461-4d66-a510-c7ca80ed4ff3"
      },
      "source": [
        "Xpca.shape"
      ],
      "execution_count": null,
      "outputs": [
        {
          "output_type": "execute_result",
          "data": {
            "text/plain": [
              "(360, 4)"
            ]
          },
          "metadata": {},
          "execution_count": 13
        }
      ]
    },
    {
      "cell_type": "markdown",
      "metadata": {
        "id": "AbWT58QPUt3l"
      },
      "source": [
        "Once our images have been reduced to arrays, it's important to normalize those arrays. Also we will split the dataset into two groups, the images labeled '0' and the images labeled '1'. This will be useful in the construction of training states."
      ]
    },
    {
      "cell_type": "code",
      "metadata": {
        "colab": {
          "base_uri": "https://localhost:8080/"
        },
        "id": "tXOAfynPh2Xb",
        "outputId": "525a66a4-76fc-4fad-faaa-26de5127982b"
      },
      "source": [
        "V0 = []\n",
        "V1 = []\n",
        "\n",
        "for i in range(Xpca.shape[0]):\n",
        "    if (labels[i] == 0):\n",
        "        V0.append(Xpca[i] / np.linalg.norm(Xpca[i]))\n",
        "    elif (labels[i] == 1):\n",
        "        V1.append(Xpca[i] / np.linalg.norm(Xpca[i]))\n",
        "\n",
        "print(V0[0:9])\n",
        "print(V1[0:9])"
      ],
      "execution_count": null,
      "outputs": [
        {
          "output_type": "stream",
          "name": "stdout",
          "text": [
            "[array([-0.96461175, -0.03469186,  0.02259613,  0.26040364]), array([-0.90565791, -0.06052352, -0.41329874, -0.07283407]), array([-0.86043944,  0.0880531 , -0.44601489, -0.23013331]), array([-0.9961216 , -0.00346231, -0.05449524, -0.068993  ]), array([-0.84453737, -0.20119917, -0.40344103, -0.28898246]), array([-0.92439828, -0.37854895, -0.02073807, -0.04193372]), array([-0.95429831, -0.25833599,  0.13884569,  0.0574381 ]), array([-0.6378455 ,  0.01511889, -0.6831358 , -0.35531677]), array([-0.79328908, -0.02515803, -0.3341317 , -0.50834586])]\n",
            "[array([ 0.99668899, -0.01930275, -0.0461384 ,  0.06410702]), array([ 0.66602183,  0.73851471, -0.07803519, -0.07015306]), array([ 0.61395619,  0.78489308, -0.04819382, -0.06839597]), array([0.68803293, 0.71120081, 0.00579495, 0.14411978]), array([0.68804686, 0.68053337, 0.04259847, 0.24829663]), array([ 0.61999146,  0.78166862, -0.0609321 ,  0.02986712]), array([0.7928533 , 0.57639774, 0.0728766 , 0.1839519 ]), array([ 0.71780492,  0.68154201, -0.12011473,  0.07634809]), array([ 0.88284846,  0.32847047, -0.17294272,  0.28770916])]\n"
          ]
        }
      ]
    },
    {
      "cell_type": "code",
      "metadata": {
        "colab": {
          "base_uri": "https://localhost:8080/"
        },
        "id": "C0hDXDg27osO",
        "outputId": "8cc241fc-2fcf-464f-d64e-eef8ca57be1c"
      },
      "source": [
        "print(len(V0))\n",
        "print(len(V1))"
      ],
      "execution_count": null,
      "outputs": [
        {
          "output_type": "stream",
          "name": "stdout",
          "text": [
            "178\n",
            "182\n"
          ]
        }
      ]
    },
    {
      "cell_type": "code",
      "metadata": {
        "colab": {
          "base_uri": "https://localhost:8080/"
        },
        "id": "voZXpqRgnQRt",
        "outputId": "65e6477f-af6c-471c-88a3-2914a17900cb"
      },
      "source": [
        "print((V1[3]**2).round(4))"
      ],
      "execution_count": null,
      "outputs": [
        {
          "output_type": "stream",
          "name": "stdout",
          "text": [
            "[0.4734 0.5058 0.     0.0208]\n"
          ]
        }
      ]
    },
    {
      "cell_type": "markdown",
      "metadata": {
        "id": "4_6RzSjuIbLV"
      },
      "source": [
        "## Classification\n",
        "\n",
        "In this section, we will focus in the construction of the classifier and the quantum circuits required. Those circuits will be based in a custom gate called ArbRot designed to build an arbitrary two-state vector given the probabilities for each basis state ($|00\\rangle$, $|01\\rangle$, $|10\\rangle$, $|11\\rangle$). This gate consists on three gates, two RX and a CRX.\n",
        "\n",
        "To build up our circuits, we will define, based on this first gate, controlled, double-controlled and triple-controlled versions."
      ]
    },
    {
      "cell_type": "code",
      "metadata": {
        "id": "Y2VYSHnWIowX"
      },
      "source": [
        "from qiskit import QuantumRegister, ClassicalRegister, QuantumCircuit"
      ],
      "execution_count": null,
      "outputs": []
    },
    {
      "cell_type": "code",
      "metadata": {
        "id": "ZJQGPKkcIowX"
      },
      "source": [
        "def ArbRot(p0, p1, p2, p3):\n",
        "    qr = QuantumRegister(2)\n",
        "    qc = QuantumCircuit(qr)\n",
        "\n",
        "    ang0 = 2*np.arccos(np.sqrt(p0+p1))\n",
        "    qc.rx(ang0, qr[1])\n",
        "    ang1 = 2*np.arccos(np.sqrt(p0/(p0+p1)))\n",
        "    qc.rx(ang1, qr[0])\n",
        "    ang2 = 2*np.arccos(np.sqrt(p2/(p2+p3))) - ang1\n",
        "    qc.crx(ang2, qr[1], qr[0])\n",
        "    #qc.swap(qr[0], qr[1])\n",
        "\n",
        "    gate = qc.to_gate()\n",
        "    gate.label = \"ArbRot\"\n",
        "    return gate"
      ],
      "execution_count": null,
      "outputs": []
    },
    {
      "cell_type": "code",
      "metadata": {
        "id": "VlIoDRmiIowX"
      },
      "source": [
        "def ArbRotControlled(p0, p1, p2, p3):\n",
        "    qr = QuantumRegister(3)\n",
        "    qc = QuantumCircuit(qr)\n",
        "\n",
        "    ang0 = 2*np.arccos(np.sqrt(p0+p1))\n",
        "    qc.crx(ang0, qr[0],  qr[2])\n",
        "    ang1 = 2*np.arccos(np.sqrt(p0/(p0+p1)))\n",
        "    qc.crx(ang1, qr[0], qr[1])\n",
        "    ang2 = 2*np.arccos(np.sqrt(p2/(p2+p3))) - ang1\n",
        "    qc.mcrx(ang2, [qr[0], qr[2]], qr[1])\n",
        "    #qc.swap(qr[0], qr[1])\n",
        "\n",
        "    gate = qc.to_gate()\n",
        "    gate.label = \"ArbRot-C\"\n",
        "    return gate"
      ],
      "execution_count": null,
      "outputs": []
    },
    {
      "cell_type": "code",
      "metadata": {
        "id": "cp_uGj_nIowY"
      },
      "source": [
        "def ArbRotControlledTranspose(p0, p1, p2, p3):\n",
        "    qr = QuantumRegister(3)\n",
        "    qc = QuantumCircuit(qr)\n",
        "\n",
        "    ang0 = 2*np.arccos(np.sqrt(p0+p1))\n",
        "    qc.crx(-ang0, qr[0],  qr[2])\n",
        "    ang1 = 2*np.arccos(np.sqrt(p0/(p0+p1)))\n",
        "    qc.crx(-ang1, qr[0], qr[1])\n",
        "    ang2 = 2*np.arccos(np.sqrt(p2/(p2+p3))) - ang1\n",
        "    qc.mcrx(-ang2, [qr[0], qr[2]], qr[1])\n",
        "    #qc.swap(qr[0], qr[1])\n",
        "\n",
        "    gate = qc.to_gate()\n",
        "    gate.label = \"ArbRot-C-dg\"\n",
        "    return gate"
      ],
      "execution_count": null,
      "outputs": []
    },
    {
      "cell_type": "code",
      "metadata": {
        "id": "2MM3ng043TWE"
      },
      "source": [
        "def ArbRotToffTranspose(p0, p1, p2, p3):\n",
        "    qr = QuantumRegister(4)\n",
        "    qc = QuantumCircuit(qr)\n",
        "\n",
        "    ang0 = 2*np.arccos(np.sqrt(p0+p1))\n",
        "    qc.mcrx(-ang0, [qr[0], qr[1]],  qr[3])\n",
        "    ang1 = 2*np.arccos(np.sqrt(p0/(p0+p1)))\n",
        "    qc.mcrx(-ang1, [qr[0], qr[1]], qr[2])\n",
        "    ang2 = 2*np.arccos(np.sqrt(p2/(p2+p3))) - ang1\n",
        "    qc.mcrx(-ang2, [qr[0], qr[1], qr[3]], qr[2])\n",
        "    #qc.swap(qr[0], qr[1])\n",
        "\n",
        "    gate = qc.to_gate()\n",
        "    gate.label = \"ArbRot-2C-dg\"\n",
        "    return gate"
      ],
      "execution_count": null,
      "outputs": []
    },
    {
      "cell_type": "code",
      "metadata": {
        "id": "HSIoYNVSCaZB"
      },
      "source": [
        "def ArbRotToffM2Transpose(p0, p1, p2, p3):\n",
        "    qr = QuantumRegister(5)\n",
        "    qc = QuantumCircuit(qr)\n",
        "\n",
        "    ang0 = 2*np.arccos(np.sqrt(p0+p1))\n",
        "    qc.mcrx(-ang0, [qr[0], qr[1], qr[2]],  qr[4])\n",
        "    ang1 = 2*np.arccos(np.sqrt(p0/(p0+p1)))\n",
        "    qc.mcrx(-ang1, [qr[0], qr[1], qr[2]], qr[3])\n",
        "    ang2 = 2*np.arccos(np.sqrt(p2/(p2+p3))) - ang1\n",
        "    qc.mcrx(-ang2, [qr[0], qr[1], qr[2], qr[4]], qr[3])\n",
        "    #qc.swap(qr[0], qr[1])\n",
        "\n",
        "    gate = qc.to_gate()\n",
        "    gate.label = \"ArbRot-3C-dg\"\n",
        "    return gate"
      ],
      "execution_count": null,
      "outputs": []
    },
    {
      "cell_type": "markdown",
      "metadata": {
        "id": "kBMteUwycFzb"
      },
      "source": [
        "To transform a four-values array into a two-qubit state, we will do the following transformation:\n",
        "\n",
        "$$\n",
        "(a,b,c,d) \\rightarrow a|00\\rangle + b|01\\rangle + c|10\\rangle + d|11\\rangle\n",
        "$$\n",
        "\n",
        "This makes sense because we have normalized our arrays before, that is, $a^2+b^2+c^2+d^2=1$ for each array. In our quantum circuits, the task of building each particular state will be performed by our ArbRot gates."
      ]
    },
    {
      "cell_type": "markdown",
      "metadata": {
        "id": "UZGvq9Z1JsN5"
      },
      "source": [
        "### One sample per class\n",
        "\n",
        "To perform a classification, we need to define three states: \n",
        "\n",
        "\n",
        "* $|\\psi_0 \\rangle$, the state that holds all the information from '0' samples in the training process.\n",
        "* $|\\psi_1 \\rangle$, the state that holds all the information from '1' samples in the training process.\n",
        "* $|x \\rangle$, the state corresponding to the image we want to classify."
      ]
    },
    {
      "cell_type": "markdown",
      "metadata": {
        "id": "a51BzmyYaSnt"
      },
      "source": [
        "As a first approximation, we will choose one array from the '0' partition as $|\\psi_0 \\rangle$, and one array from the '1' partition as $|\\psi_1 \\rangle$. Next, we will try to predict labels for other two arrays, each one from a different partition.\n",
        "\n"
      ]
    },
    {
      "cell_type": "code",
      "metadata": {
        "id": "bp8IJyBoxIOQ"
      },
      "source": [
        "import numpy as np\n",
        "\n",
        "a0 = np.array(V0[1])\n",
        "a1 = np.array(V1[1])\n",
        "b = np.array(V0[2])\n",
        "c = np.array(V1[2])"
      ],
      "execution_count": null,
      "outputs": []
    },
    {
      "cell_type": "code",
      "metadata": {
        "colab": {
          "base_uri": "https://localhost:8080/"
        },
        "id": "vZ05wdhtxB7U",
        "outputId": "3ca28aa9-d5f2-48df-f2c8-01c4a7911363"
      },
      "source": [
        "0.5*np.dot(a0, b)**2, 0.5*(np.dot(a0, c)**2)"
      ],
      "execution_count": null,
      "outputs": [
        {
          "output_type": "execute_result",
          "data": {
            "text/plain": [
              "(0.475345104071906, 0.16741141389309663)"
            ]
          },
          "metadata": {},
          "execution_count": 24
        }
      ]
    },
    {
      "cell_type": "code",
      "metadata": {
        "colab": {
          "base_uri": "https://localhost:8080/"
        },
        "id": "6LO21MCzeX1k",
        "outputId": "a4212dbe-50ef-4d6c-d8b1-fb0da76ecc4e"
      },
      "source": [
        "0.5*np.dot(a1, b)**2, 0.5*(np.dot(a1, c)**2)"
      ],
      "execution_count": null,
      "outputs": [
        {
          "output_type": "execute_result",
          "data": {
            "text/plain": [
              "(0.10446724853375967, 0.49712645102867914)"
            ]
          },
          "metadata": {},
          "execution_count": 25
        }
      ]
    },
    {
      "cell_type": "markdown",
      "metadata": {
        "id": "abtvVvqLdMwq"
      },
      "source": [
        "In our most basic proposed circuit, we will have three qubits. The least significant ($q_0$) will act as an ancillary qubit, and the other two qubits ($q_1$ and $q_2$) will store our states. So we prepare our state $|x \\rangle$ using an ArbRot; we then put an ArbRotControlled, using the ancilla qubit as control, that performs rotations given by the state $|\\psi_0 \\rangle$; and then we put another ArbRotControlled that performs rotations given by the state $|\\psi_1 \\rangle$. Finally we measure the qubits, and we expect that, when the state of the two most significant qubits is $|00 \\rangle$, the ancilla qubit will store the prediction, either $|0 \\rangle$ for label '0' or $|1 \\rangle$ for label '1'.\n",
        "\n",
        "To obtain a more solid prediction, we will run the circuit many shots, and then we will compare the amount of $|000 \\rangle$ versus the amount of $|001 \\rangle$. If $|000 \\rangle$ is more common, the prediction will be '0'; otherwise, the prediction will be '1'."
      ]
    },
    {
      "cell_type": "code",
      "metadata": {
        "colab": {
          "base_uri": "https://localhost:8080/",
          "height": 343
        },
        "id": "ukDt4xpdyQ3i",
        "outputId": "abf66c30-3741-48ca-92a8-0d834bd5daf9"
      },
      "source": [
        "# Zero sample\n",
        "\n",
        "qc = QuantumCircuit(3, 3)\n",
        "\n",
        "qc.h(0)\n",
        "qc.append(ArbRot(*(a0**2)), [2,1])\n",
        "\n",
        "qc.barrier()\n",
        "\n",
        "qc.x(0)\n",
        "qc.append(ArbRotControlledTranspose(*(b**2)), [0,2,1])\n",
        "\n",
        "qc.barrier()\n",
        "\n",
        "qc.x(0)\n",
        "qc.append(ArbRotControlledTranspose(*(c**2)), [0,2,1])\n",
        "\n",
        "qc.barrier()\n",
        "\n",
        "qc.measure(0, 0)\n",
        "qc.measure(1, 1)\n",
        "qc.measure(2, 2)\n",
        "\n",
        "shots = 10000\n",
        "job = execute(qc, Aer.get_backend('qasm_simulator'),shots=shots)\n",
        "counts = job.result().get_counts()\n",
        "plot_histogram(counts)"
      ],
      "execution_count": null,
      "outputs": [
        {
          "output_type": "execute_result",
          "data": {
            "image/png": "[encoded data removed]",
            "text/plain": [
              "<Figure size 504x360 with 1 Axes>"
            ]
          },
          "metadata": {},
          "execution_count": 26
        }
      ]
    },
    {
      "cell_type": "code",
      "metadata": {
        "colab": {
          "base_uri": "https://localhost:8080/"
        },
        "id": "NRfqs6Qh_L9u",
        "outputId": "7cc27751-21d3-4235-9da1-d4edd6f7dd4e"
      },
      "source": [
        "print((int)(counts['000'] < counts['001']))"
      ],
      "execution_count": null,
      "outputs": [
        {
          "output_type": "stream",
          "name": "stdout",
          "text": [
            "0\n"
          ]
        }
      ]
    },
    {
      "cell_type": "code",
      "metadata": {
        "colab": {
          "base_uri": "https://localhost:8080/",
          "height": 340
        },
        "id": "1Ok-Y8R--I2G",
        "outputId": "4da03dd8-12ac-4d63-fa3b-ec8b51cf25b1"
      },
      "source": [
        "# One sample\n",
        "\n",
        "qc = QuantumCircuit(3, 3)\n",
        "\n",
        "qc.h(0)\n",
        "qc.append(ArbRot(*(a1**2)), [2,1])\n",
        "\n",
        "qc.barrier()\n",
        "\n",
        "qc.x(0)\n",
        "qc.append(ArbRotControlledTranspose(*(b**2)), [0,2,1])\n",
        "\n",
        "qc.barrier()\n",
        "\n",
        "qc.x(0)\n",
        "qc.append(ArbRotControlledTranspose(*(c**2)), [0,2,1])\n",
        "\n",
        "qc.barrier()\n",
        "\n",
        "qc.measure(0, 0)\n",
        "qc.measure(1, 1)\n",
        "qc.measure(2, 2)\n",
        "\n",
        "shots = 10000\n",
        "job = execute(qc, Aer.get_backend('qasm_simulator'),shots=shots)\n",
        "counts = job.result().get_counts()\n",
        "plot_histogram(counts)"
      ],
      "execution_count": null,
      "outputs": [
        {
          "output_type": "execute_result",
          "data": {
            "image/png": "[encoded data removed]",
            "text/plain": [
              "<Figure size 504x360 with 1 Axes>"
            ]
          },
          "metadata": {},
          "execution_count": 28
        }
      ]
    },
    {
      "cell_type": "code",
      "metadata": {
        "colab": {
          "base_uri": "https://localhost:8080/"
        },
        "id": "HZclcpKC_cPy",
        "outputId": "faab4f72-456b-4135-e6da-a7fc13da5209"
      },
      "source": [
        "print((int)(counts['000'] < counts['001']))"
      ],
      "execution_count": null,
      "outputs": [
        {
          "output_type": "stream",
          "name": "stdout",
          "text": [
            "1\n"
          ]
        }
      ]
    },
    {
      "cell_type": "markdown",
      "metadata": {
        "id": "c0AgM1WHgRim"
      },
      "source": [
        "As we observe, both samples were correctly classified.\n",
        "\n",
        "The following images show the circuit used in the examples above, the first indicating the ArbRot gates applied, and the second showing the required amounts of rotations, controlled rotations and CNOTs."
      ]
    },
    {
      "cell_type": "code",
      "metadata": {
        "colab": {
          "base_uri": "https://localhost:8080/",
          "height": 231
        },
        "id": "olOnbCR-yQ3m",
        "outputId": "ba4f48e9-c745-4fd3-89e2-541e5dc57868"
      },
      "source": [
        "qc.draw('mpl')"
      ],
      "execution_count": null,
      "outputs": [
        {
          "output_type": "execute_result",
          "data": {
            "image/png": "[encoded data removed]",
            "text/plain": [
              "<Figure size 1049.8x264.88 with 1 Axes>"
            ]
          },
          "metadata": {},
          "execution_count": 30
        }
      ]
    },
    {
      "cell_type": "code",
      "metadata": {
        "colab": {
          "base_uri": "https://localhost:8080/",
          "height": 384
        },
        "id": "rgHDEVpzC-Uc",
        "outputId": "8b5ec7bc-3866-44af-f8d5-5f97908c98c9"
      },
      "source": [
        "qc.decompose().draw('mpl')"
      ],
      "execution_count": null,
      "outputs": [
        {
          "output_type": "execute_result",
          "data": {
            "image/png": "[encoded data removed]",
            "text/plain": [
              "<Figure size 1591.6x565.88 with 1 Axes>"
            ]
          },
          "metadata": {},
          "execution_count": 31
        }
      ]
    },
    {
      "cell_type": "markdown",
      "metadata": {
        "id": "r5tXC8ED_fRA"
      },
      "source": [
        "### Pure State Classifier\n",
        "\n",
        "Now, we will define properly the states $|\\psi_0 \\rangle$ and  $|\\psi_1 \\rangle$. This can be done in many ways, so here we will use the Pure State approach. This indicates that\n",
        "\n",
        "$$\n",
        " |\\psi_0 \\rangle = \\frac {\\sum |\\phi_0 \\rangle} {\\left \\| \\sum |\\phi_0 \\rangle \\right \\|}\n",
        "$$\n",
        "\n",
        "being $|\\phi_0 \\rangle$ the states labeled with '0'. \n",
        "\n",
        "Similarly, we define\n",
        "\n",
        "$$\n",
        " |\\psi_1 \\rangle = \\frac {\\sum |\\phi_1 \\rangle} {\\left \\| \\sum |\\phi_1 \\rangle \\right \\|}\n",
        "$$\n",
        "\n",
        "being $|\\phi_1 \\rangle$ the states labeled with '1'. To construct these states, only train samples will be used.\n"
      ]
    },
    {
      "cell_type": "code",
      "metadata": {
        "colab": {
          "base_uri": "https://localhost:8080/"
        },
        "id": "lYeXa0ZHB3qU",
        "outputId": "4d9ccaab-c5f6-41ba-9fb8-3160f109ce01"
      },
      "source": [
        "#Pure state for class 0\n",
        "S_zero = np.sum(np.abs(V0[0:121]), axis=0)\n",
        "#S_zero = np.sum(V0[0:121], axis=0)\n",
        "S_zero = S_zero / np.linalg.norm(S_zero)\n",
        "print(S_zero)"
      ],
      "execution_count": null,
      "outputs": [
        {
          "output_type": "stream",
          "name": "stdout",
          "text": [
            "[0.94247141 0.12817377 0.20752908 0.22858438]\n"
          ]
        }
      ]
    },
    {
      "cell_type": "code",
      "metadata": {
        "colab": {
          "base_uri": "https://localhost:8080/"
        },
        "id": "fh4XuSTQCdmU",
        "outputId": "47b0f0a6-6c6b-4a14-c5f3-058880065520"
      },
      "source": [
        "#Pure state for class 1\n",
        "S_one = np.sum(np.abs(V1[0:121]), axis=0)\n",
        "#S_one = np.sum(V1[0:121], axis=0)\n",
        "S_one = S_one / np.linalg.norm(S_one)\n",
        "print(S_one)"
      ],
      "execution_count": null,
      "outputs": [
        {
          "output_type": "stream",
          "name": "stdout",
          "text": [
            "[0.7522197  0.49571815 0.38369994 0.20298621]\n"
          ]
        }
      ]
    },
    {
      "cell_type": "markdown",
      "metadata": {
        "id": "qSvz-xhMio6J"
      },
      "source": [
        "Now, we will run the same circuit used before. We need a different circuit for each sample  $|x \\rangle$ in the test, and each circuit will run many times to build a more accurate prediction."
      ]
    },
    {
      "cell_type": "code",
      "metadata": {
        "colab": {
          "base_uri": "https://localhost:8080/"
        },
        "id": "SrImIpdbBhet",
        "outputId": "d7b9a5fe-ef14-4d0a-b84a-044bb1a83551"
      },
      "source": [
        "# Pure state case\n",
        "test_zeros = []\n",
        "\n",
        "for i in range(121, 178):\n",
        "    qc = QuantumCircuit(3, 3)\n",
        "\n",
        "    qc.h(0)\n",
        "    qc.append(ArbRot(*(np.array(V0[i])**2)), [2,1])\n",
        "\n",
        "    qc.barrier()\n",
        "\n",
        "    qc.x(0)\n",
        "    qc.append(ArbRotControlledTranspose(*(S_zero**2)), [0,2,1])\n",
        "\n",
        "    qc.barrier()\n",
        "\n",
        "    qc.x(0)\n",
        "    qc.append(ArbRotControlledTranspose(*(S_one**2)), [0,2,1])\n",
        "\n",
        "    qc.barrier()\n",
        "\n",
        "    qc.measure(0, 0)\n",
        "    qc.measure(1, 1)\n",
        "    qc.measure(2, 2)\n",
        "\n",
        "    shots = 12000\n",
        "    job = execute(qc, Aer.get_backend('qasm_simulator'),shots=shots)\n",
        "    counts = job.result().get_counts()\n",
        "    test_zeros.append((int)(counts['000'] < counts['001']))\n",
        "\n",
        "print(test_zeros)"
      ],
      "execution_count": null,
      "outputs": [
        {
          "output_type": "stream",
          "name": "stdout",
          "text": [
            "[0, 0, 0, 0, 0, 1, 0, 0, 0, 0, 1, 0, 0, 0, 0, 0, 0, 0, 1, 0, 0, 0, 0, 0, 0, 0, 0, 0, 0, 0, 0, 0, 0, 0, 0, 1, 0, 1, 0, 0, 1, 0, 1, 0, 0, 0, 0, 0, 0, 0, 0, 1, 0, 0, 0, 1, 0]\n"
          ]
        }
      ]
    },
    {
      "cell_type": "code",
      "metadata": {
        "colab": {
          "base_uri": "https://localhost:8080/"
        },
        "id": "uk5L-eLEg3cC",
        "outputId": "6d2b7291-18fc-476c-8c44-3987b18958c0"
      },
      "source": [
        "# Pure state case\n",
        "test_ones = []\n",
        "\n",
        "for i in range(121, 182):\n",
        "    qc = QuantumCircuit(3, 3)\n",
        "\n",
        "    qc.h(0)\n",
        "    qc.append(ArbRot(*(np.array(V1[i])**2)), [2,1])\n",
        "\n",
        "    qc.barrier()\n",
        "\n",
        "    qc.x(0)\n",
        "    qc.append(ArbRotControlledTranspose(*(S_zero**2)), [0,2,1])\n",
        "\n",
        "    qc.barrier()\n",
        "\n",
        "    qc.x(0)\n",
        "    qc.append(ArbRotControlledTranspose(*(S_one**2)), [0,2,1])\n",
        "\n",
        "    qc.barrier()\n",
        "\n",
        "    qc.measure(0, 0)\n",
        "    qc.measure(1, 1)\n",
        "    qc.measure(2, 2)\n",
        "\n",
        "    shots = 12000\n",
        "    job = execute(qc, Aer.get_backend('qasm_simulator'),shots=shots)\n",
        "    counts = job.result().get_counts()\n",
        "    test_ones.append((int)(counts['000'] < counts['001']))\n",
        "\n",
        "print(test_ones)"
      ],
      "execution_count": null,
      "outputs": [
        {
          "output_type": "stream",
          "name": "stdout",
          "text": [
            "[0, 1, 1, 1, 1, 1, 1, 1, 1, 1, 0, 1, 1, 1, 1, 1, 1, 0, 1, 1, 1, 1, 1, 1, 1, 1, 1, 1, 1, 1, 1, 1, 1, 1, 1, 0, 1, 1, 1, 1, 1, 1, 1, 1, 0, 1, 1, 1, 1, 0, 1, 1, 0, 1, 1, 1, 0, 0, 1, 1, 1]\n"
          ]
        }
      ]
    },
    {
      "cell_type": "markdown",
      "metadata": {
        "id": "uFMah19yGpla"
      },
      "source": [
        "**Classifier Reports**\n",
        "\n",
        "Once we have a prediction for all the test samples, we will report the confusion matrix and some metrics (accuracy, precision, recall, F1 score)."
      ]
    },
    {
      "cell_type": "code",
      "metadata": {
        "id": "4m06gVIcGuIV"
      },
      "source": [
        "ytest = np.concatenate([np.zeros(len(test_zeros)), np.ones(len(test_ones))])\n",
        "\n",
        "preds = np.concatenate([test_zeros, test_ones])"
      ],
      "execution_count": null,
      "outputs": []
    },
    {
      "cell_type": "code",
      "metadata": {
        "colab": {
          "base_uri": "https://localhost:8080/",
          "height": 279
        },
        "id": "0CVu58WPHcY4",
        "outputId": "4121283e-f184-490c-cbd2-cf89aa4061f3"
      },
      "source": [
        "import sklearn.metrics as metrics\n",
        "\n",
        "cm = metrics.confusion_matrix(ytest, preds)\n",
        "\n",
        "cm_display = metrics.ConfusionMatrixDisplay(cm, display_labels=[0,1]).plot()"
      ],
      "execution_count": null,
      "outputs": [
        {
          "output_type": "display_data",
          "data": {
            "image/png": "[encoded data removed]",
            "text/plain": [
              "<Figure size 432x288 with 2 Axes>"
            ]
          },
          "metadata": {
            "needs_background": "light"
          }
        }
      ]
    },
    {
      "cell_type": "code",
      "metadata": {
        "colab": {
          "base_uri": "https://localhost:8080/"
        },
        "id": "Z7I01DzfJXtY",
        "outputId": "6cb8b861-fe01-4822-f893-94dea706946c"
      },
      "source": [
        "accuracy = metrics.accuracy_score(ytest,preds)\n",
        "print(\"Accuracy: \", accuracy)\n",
        "precision, recall, f_score, _ = metrics.precision_recall_fscore_support(ytest, preds, average='binary')\n",
        "print(\"Precision: \", precision)\n",
        "print(\"Recall: \", recall)\n",
        "print(\"F1: \", f_score)"
      ],
      "execution_count": null,
      "outputs": [
        {
          "output_type": "stream",
          "name": "stdout",
          "text": [
            "Accuracy:  0.847457627118644\n",
            "Precision:  0.8524590163934426\n",
            "Recall:  0.8524590163934426\n",
            "F1:  0.8524590163934426\n"
          ]
        }
      ]
    },
    {
      "cell_type": "markdown",
      "metadata": {
        "id": "DYHTYaIo9gty"
      },
      "source": [
        "### Mixed State Classifier\n",
        "\n",
        "\n",
        "Now, we will redefine the training states using another approach: Mixed State. We will not work directly with $|\\psi_0 \\rangle$ and $|\\psi_1 \\rangle$; instead we will use their corresponding density matrices, $\\rho_0$ and $\\rho_1$. So we have\n",
        "\n",
        "$$\n",
        "\\rho_0 = \\frac{1}{n} \\sum |\\phi_0 \\rangle \\langle \\phi_0 |\n",
        "$$\n",
        "\n",
        "being $|\\phi_0 \\rangle$ the states labeled with '0', and $n$ the amount of '0' samples. \n",
        "\n",
        "Similarly, we define\n",
        "\n",
        "$$\n",
        "\\rho_1 = \\frac{1}{m} \\sum |\\phi_1 \\rangle \\langle \\phi_1 |\n",
        "$$\n",
        "\n",
        "being $|\\phi_1 \\rangle$ the states labeled with '1', and $m$ the amount of '1' samples. To construct the density matrices, only train samples will be used."
      ]
    },
    {
      "cell_type": "markdown",
      "metadata": {
        "id": "hgA-pk_YmeNA"
      },
      "source": [
        "Once we built $\\rho_0$ and $\\rho_1$, we apply the second circuit proposed. In this circuit, we require three ancillary qubits, two qubits to store states, and two auxiliary qubits. We will use ArbRot to define the state $|x \\rangle$ we want to classify, and then we'll apply four ArbRot with three controls and one ArbRot with one control to perform the rotations indicated by $\\rho_0$; after that, we'll apply other four ArbRot with three controls and one ArbRot with one control to perform the rotations indicated by $\\rho_1$. Finally we'll measure the qubits, and the most significant ancilla qubit ($q_2$) will determine the prediction when the state of the other measured qubits is $|0000 \\rangle$.\n",
        "\n",
        "To obtain a more solid prediction, we will run the circuit many shots, and then we will compare the amount of $|00000 \\rangle$ versus the amount of $|00001 \\rangle$. If $|00000 \\rangle$ is more common, the prediction will be '0'; otherwise, the prediction will be '1'."
      ]
    },
    {
      "cell_type": "markdown",
      "metadata": {
        "id": "s9vlMXNzVWiO"
      },
      "source": [
        "Now, we are ready to use this new circuit for our dataset. So we will build the density matrices $\\rho_0$ and $\\rho_1$ using the train samples for the respective labels. Also we need to perform eigen-decompositions of the two matrices. "
      ]
    },
    {
      "cell_type": "code",
      "metadata": {
        "id": "KSAogG2dJ_dq",
        "colab": {
          "base_uri": "https://localhost:8080/"
        },
        "outputId": "d30d6d62-7b6e-4932-9039-f6d3771a889c"
      },
      "source": [
        "Z_zero = np.outer(np.abs(V0[0]), np.abs(V0[0]))\n",
        "for i in range(1, 121):\n",
        "    Z_zero += np.outer(np.abs(V0[i]), np.abs(V0[i]))\n",
        "\n",
        "Z_zero *= 1/120\n",
        "print(Z_zero)"
      ],
      "execution_count": null,
      "outputs": [
        {
          "output_type": "stream",
          "name": "stdout",
          "text": [
            "[[0.84098733 0.11112925 0.16993777 0.18888191]\n",
            " [0.11112925 0.02429141 0.02373526 0.02690334]\n",
            " [0.16993777 0.02373526 0.0673663  0.05376573]\n",
            " [0.18888191 0.02690334 0.05376573 0.07568829]]\n"
          ]
        }
      ]
    },
    {
      "cell_type": "code",
      "metadata": {
        "colab": {
          "base_uri": "https://localhost:8080/"
        },
        "id": "hhPC3zjJWn20",
        "outputId": "1666bf5d-6fa0-4a1c-8694-a7e100489380"
      },
      "source": [
        "lambda_P0_temp, U_zero = np.linalg.eigh(Z_zero)\n",
        "lambda_zero = round_lambda(lambda_P0_temp)\n",
        "print(lambda_zero)\n",
        "print(U_zero)"
      ],
      "execution_count": null,
      "outputs": [
        {
          "output_type": "stream",
          "name": "stdout",
          "text": [
            "[0.00932379 0.01756579 0.04447589 0.92863453]\n",
            "[[-0.11660424 -0.02199912 -0.30481398 -0.94499097]\n",
            " [ 0.99051938  0.05144787  0.01083254 -0.12691389]\n",
            " [ 0.00354016 -0.70871728  0.67595449 -0.20197232]\n",
            " [-0.07254158  0.7032702   0.6708626  -0.22381269]]\n"
          ]
        }
      ]
    },
    {
      "cell_type": "code",
      "metadata": {
        "colab": {
          "base_uri": "https://localhost:8080/"
        },
        "id": "-gOCxNehW41x",
        "outputId": "68ae274d-9cfd-4138-8c16-f049ed02eec3"
      },
      "source": [
        "Z_one = np.outer(np.abs(V1[0]), np.abs(V1[0]))\n",
        "for i in range(1, 121):\n",
        "    Z_one += np.outer(np.abs(V1[i]), np.abs(V1[i]))\n",
        "\n",
        "Z_one *= 1/120\n",
        "print(Z_one)"
      ],
      "execution_count": null,
      "outputs": [
        {
          "output_type": "stream",
          "name": "stdout",
          "text": [
            "[[0.48870747 0.27367608 0.20872624 0.12179777]\n",
            " [0.27367608 0.27199215 0.10905759 0.06913222]\n",
            " [0.20872624 0.10905759 0.19846444 0.06883592]\n",
            " [0.12179777 0.06913222 0.06883592 0.04916928]]\n"
          ]
        }
      ]
    },
    {
      "cell_type": "code",
      "metadata": {
        "colab": {
          "base_uri": "https://localhost:8080/"
        },
        "id": "FXsLkY73W4-l",
        "outputId": "4c4ed0e5-2d4c-40d7-e966-21fa3e54a0f8"
      },
      "source": [
        "lambda_P1_temp, U_one = np.linalg.eigh(Z_one)\n",
        "lambda_one = round_lambda(lambda_P1_temp)\n",
        "print(lambda_one)\n",
        "print(U_one)"
      ],
      "execution_count": null,
      "outputs": [
        {
          "output_type": "stream",
          "name": "stdout",
          "text": [
            "[0.01531458 0.0678419  0.12256667 0.79427685]\n",
            "[[-0.17464078  0.62668804  0.04404586 -0.7581706 ]\n",
            " [-0.00648166 -0.55262727 -0.67100606 -0.49427923]\n",
            " [-0.16212154 -0.54914909  0.72947362 -0.37419263]\n",
            " [ 0.97117207  0.01733416  0.12521607 -0.20210212]]\n"
          ]
        }
      ]
    },
    {
      "cell_type": "markdown",
      "metadata": {
        "id": "epOosHfR54WM"
      },
      "source": [
        "Like before, we need a different circuit for each sample $|x \\rangle$ in the test, and each circuit will run many times to build a more accurate prediction."
      ]
    },
    {
      "cell_type": "code",
      "metadata": {
        "id": "MinF_Qc2YUAy"
      },
      "source": [
        "backend2 = Aer.get_backend('qasm_simulator')"
      ],
      "execution_count": null,
      "outputs": []
    },
    {
      "cell_type": "code",
      "metadata": {
        "colab": {
          "base_uri": "https://localhost:8080/"
        },
        "id": "bERoCTqfXRZl",
        "outputId": "a067d7a7-0631-4332-8d06-bf48af21bd73"
      },
      "source": [
        "# Mixed state case\n",
        "test2_zeros = []\n",
        "\n",
        "for i in range(121, 178):\n",
        "\n",
        "    qc = QuantumCircuit(7, 5)\n",
        "\n",
        "    qc.h(0)\n",
        "    qc.h(1)\n",
        "    qc.h(2)\n",
        "    qc.append(ArbRot(*(V0[i]**2)), [3, 4])\n",
        "\n",
        "    qc.barrier()\n",
        "    qc.x(2)\n",
        "    qc.x(0)\n",
        "    qc.x(1)\n",
        "    qc.append(ArbRotToffM2Transpose(*(U_zero[:, 0]**2)), [0, 1, 2, 3, 4])\n",
        "    qc.x(1)\n",
        "    qc.append(ArbRotToffM2Transpose(*(U_zero[:, 1]**2)), [0, 1, 2, 3, 4])\n",
        "    qc.x(0)\n",
        "    qc.x(1)\n",
        "    qc.append(ArbRotToffM2Transpose(*(U_zero[:, 2]**2)), [0, 1, 2, 3, 4])\n",
        "    qc.x(1)\n",
        "    qc.append(ArbRotToffM2Transpose(*(U_zero[:, 3]**2)), [0, 1, 2, 3, 4])\n",
        "    qc.append(ArbRotControlled(*lambda_zero), [2, 5, 6])\n",
        "\n",
        "    qc.barrier()\n",
        "    qc.x(2)\n",
        "    qc.x(0)\n",
        "    qc.x(1)\n",
        "    qc.append(ArbRotToffM2Transpose(*(U_one[:, 0]**2)), [0, 1, 2, 3, 4])\n",
        "    qc.x(1)\n",
        "    qc.append(ArbRotToffM2Transpose(*(U_one[:, 1]**2)), [0, 1, 2, 3, 4])\n",
        "    qc.x(0)\n",
        "    qc.x(1)\n",
        "    qc.append(ArbRotToffM2Transpose(*(U_one[:, 2]**2)), [0, 1, 2, 3, 4])\n",
        "    qc.x(1)\n",
        "    qc.append(ArbRotToffM2Transpose(*(U_one[:, 3]**2)), [0, 1, 2, 3, 4])\n",
        "    qc.append(ArbRotControlled(*lambda_one), [2, 5, 6])\n",
        "    qc.cx(1, 6)\n",
        "    qc.cx(0, 5)\n",
        "\n",
        "    qc.barrier()\n",
        "\n",
        "    qc.measure(2, 0)\n",
        "    qc.measure(3, 1)\n",
        "    qc.measure(4, 2)\n",
        "    qc.measure(5, 3)\n",
        "    qc.measure(6, 4)\n",
        "\n",
        "    counts = execute(qc, backend2, shots=50000).result().get_counts()\n",
        "    test2_zeros.append((int)(counts['00000'] < counts['00001']))\n",
        "\n",
        "print(test2_zeros)"
      ],
      "execution_count": null,
      "outputs": [
        {
          "output_type": "stream",
          "name": "stdout",
          "text": [
            "[0, 0, 0, 0, 0, 1, 0, 0, 0, 0, 1, 0, 0, 0, 0, 0, 0, 0, 1, 0, 0, 0, 0, 0, 0, 0, 0, 0, 0, 0, 0, 0, 0, 0, 0, 1, 0, 1, 0, 0, 1, 0, 1, 0, 0, 0, 0, 0, 0, 0, 0, 1, 0, 0, 0, 1, 0]\n"
          ]
        }
      ]
    },
    {
      "cell_type": "code",
      "metadata": {
        "colab": {
          "base_uri": "https://localhost:8080/"
        },
        "id": "Bcqj7SoHYWlC",
        "outputId": "dae141ef-56cd-4283-b08a-02408efa84ed"
      },
      "source": [
        "# Mixed state case\n",
        "test2_ones = []\n",
        "\n",
        "for i in range(121, 182):\n",
        "\n",
        "    qc = QuantumCircuit(7, 5)\n",
        "\n",
        "    qc.h(0)\n",
        "    qc.h(1)\n",
        "    qc.h(2)\n",
        "    qc.append(ArbRot(*(V1[i]**2)), [3, 4])\n",
        "\n",
        "    qc.barrier()\n",
        "    qc.x(2)\n",
        "    qc.x(0)\n",
        "    qc.x(1)\n",
        "    qc.append(ArbRotToffM2Transpose(*(U_zero[:, 0]**2)), [0, 1, 2, 3, 4])\n",
        "    qc.x(1)\n",
        "    qc.append(ArbRotToffM2Transpose(*(U_zero[:, 1]**2)), [0, 1, 2, 3, 4])\n",
        "    qc.x(0)\n",
        "    qc.x(1)\n",
        "    qc.append(ArbRotToffM2Transpose(*(U_zero[:, 2]**2)), [0, 1, 2, 3, 4])\n",
        "    qc.x(1)\n",
        "    qc.append(ArbRotToffM2Transpose(*(U_zero[:, 3]**2)), [0, 1, 2, 3, 4])\n",
        "    qc.append(ArbRotControlled(*lambda_zero), [2, 5, 6])\n",
        "\n",
        "    qc.barrier()\n",
        "    qc.x(2)\n",
        "    qc.x(0)\n",
        "    qc.x(1)\n",
        "    qc.append(ArbRotToffM2Transpose(*(U_one[:, 0]**2)), [0, 1, 2, 3, 4])\n",
        "    qc.x(1)\n",
        "    qc.append(ArbRotToffM2Transpose(*(U_one[:, 1]**2)), [0, 1, 2, 3, 4])\n",
        "    qc.x(0)\n",
        "    qc.x(1)\n",
        "    qc.append(ArbRotToffM2Transpose(*(U_one[:, 2]**2)), [0, 1, 2, 3, 4])\n",
        "    qc.x(1)\n",
        "    qc.append(ArbRotToffM2Transpose(*(U_one[:, 3]**2)), [0, 1, 2, 3, 4])\n",
        "    qc.append(ArbRotControlled(*lambda_one), [2, 5, 6])\n",
        "    qc.cx(1, 6)\n",
        "    qc.cx(0, 5)\n",
        "\n",
        "    qc.barrier()\n",
        "\n",
        "    qc.measure(2, 0)\n",
        "    qc.measure(3, 1)\n",
        "    qc.measure(4, 2)\n",
        "    qc.measure(5, 3)\n",
        "    qc.measure(6, 4)\n",
        "\n",
        "    counts = execute(qc, backend2, shots=50000).result().get_counts()\n",
        "    test2_ones.append((int)(counts['00000'] < counts['00001']))\n",
        "\n",
        "print(test2_ones)"
      ],
      "execution_count": null,
      "outputs": [
        {
          "output_type": "stream",
          "name": "stdout",
          "text": [
            "[0, 1, 1, 1, 1, 1, 1, 1, 1, 1, 0, 1, 1, 1, 1, 1, 1, 0, 1, 1, 1, 1, 1, 1, 1, 1, 1, 1, 1, 1, 1, 1, 1, 1, 1, 0, 1, 1, 1, 1, 1, 1, 1, 1, 0, 0, 1, 0, 1, 0, 1, 1, 0, 1, 1, 1, 0, 0, 1, 1, 1]\n"
          ]
        }
      ]
    },
    {
      "cell_type": "markdown",
      "metadata": {
        "id": "eUwAnbsS6Pkp"
      },
      "source": [
        "**Classifier Reports**\n",
        "\n",
        "Once we have a prediction for all the test samples, we will report the confusion matrix and some metrics (accuracy, precision, recall, F1 score)."
      ]
    },
    {
      "cell_type": "code",
      "metadata": {
        "id": "Tp8nqpFJYybh"
      },
      "source": [
        "ytest = np.concatenate([np.zeros(len(test2_zeros)), np.ones(len(test2_ones))])\n",
        "\n",
        "preds2 = np.concatenate([test2_zeros, test2_ones])"
      ],
      "execution_count": null,
      "outputs": []
    },
    {
      "cell_type": "code",
      "metadata": {
        "colab": {
          "base_uri": "https://localhost:8080/",
          "height": 283
        },
        "id": "VHn_uUMyYybi",
        "outputId": "a9308da7-3b39-4c66-f99e-95d4742e67af"
      },
      "source": [
        "import sklearn.metrics as metrics\n",
        "\n",
        "cm2 = metrics.confusion_matrix(ytest, preds2)\n",
        "\n",
        "cm2_display = metrics.ConfusionMatrixDisplay(cm2, display_labels=[0,1]).plot()"
      ],
      "execution_count": null,
      "outputs": [
        {
          "output_type": "display_data",
          "data": {
            "image/png": "[encoded data removed]",
            "text/plain": [
              "<Figure size 432x288 with 2 Axes>"
            ]
          },
          "metadata": {
            "needs_background": "light"
          }
        }
      ]
    },
    {
      "cell_type": "code",
      "metadata": {
        "colab": {
          "base_uri": "https://localhost:8080/"
        },
        "id": "IVqcol7jYybl",
        "outputId": "26513576-60cf-435b-afb6-ee285c36c0c9"
      },
      "source": [
        "accuracy = metrics.accuracy_score(ytest,preds2)\n",
        "print(\"Accuracy: \", accuracy)\n",
        "precision, recall, f_score, _ = metrics.precision_recall_fscore_support(ytest, preds2, average='binary')\n",
        "print(\"Precision: \", precision)\n",
        "print(\"Recall: \", recall)\n",
        "print(\"F1: \", f_score)"
      ],
      "execution_count": null,
      "outputs": [
        {
          "output_type": "stream",
          "name": "stdout",
          "text": [
            "Accuracy:  0.8305084745762712\n",
            "Precision:  0.847457627118644\n",
            "Recall:  0.819672131147541\n",
            "F1:  0.8333333333333333\n"
          ]
        }
      ]
    },
    {
      "cell_type": "markdown",
      "metadata": {
        "id": "IZ3QZ0SWGF9J"
      },
      "source": [
        "### Classifying with noisy backends"
      ]
    },
    {
      "cell_type": "code",
      "metadata": {
        "id": "-6leo9FNNUU3"
      },
      "source": [
        "from qiskit import IBMQ, transpile\n",
        "from qiskit import QuantumCircuit\n",
        "from qiskit.providers.aer import AerSimulator\n",
        "from qiskit.tools.visualization import plot_histogram"
      ],
      "execution_count": null,
      "outputs": []
    },
    {
      "cell_type": "code",
      "metadata": {
        "id": "QhwuXG5mGNWK"
      },
      "source": [
        "from qiskit.test.mock import FakeCasablanca\n",
        "from qiskit.providers.aer import AerSimulator\n",
        "\n",
        "device_backend = FakeCasablanca()\n",
        "casablanca = AerSimulator.from_backend(device_backend)"
      ],
      "execution_count": null,
      "outputs": []
    },
    {
      "cell_type": "code",
      "metadata": {
        "colab": {
          "base_uri": "https://localhost:8080/"
        },
        "id": "bY4xCimrHCkn",
        "outputId": "fc28a1bf-f4cb-41b7-8c0a-bd8605280104"
      },
      "source": [
        "# Pure state case\n",
        "test_zeros = []\n",
        "\n",
        "for i in range(121, 178):\n",
        "    qc = QuantumCircuit(3, 3)\n",
        "\n",
        "    qc.h(0)\n",
        "    qc.append(ArbRot(*(np.array(V0[i])**2)), [2,1])\n",
        "\n",
        "    qc.barrier()\n",
        "\n",
        "    qc.x(0)\n",
        "    qc.append(ArbRotControlledTranspose(*(S_zero**2)), [0,2,1])\n",
        "\n",
        "    qc.barrier()\n",
        "\n",
        "    qc.x(0)\n",
        "    qc.append(ArbRotControlledTranspose(*(S_one**2)), [0,2,1])\n",
        "\n",
        "    qc.barrier()\n",
        "\n",
        "    qc.measure(0, 0)\n",
        "    qc.measure(1, 1)\n",
        "    qc.measure(2, 2)\n",
        "\n",
        "    shots = 12000\n",
        "    job = execute(qc, backend=casablanca, shots=shots)\n",
        "    counts = job.result().get_counts()\n",
        "    test_zeros.append((int)(counts['000'] < counts['001']))\n",
        "\n",
        "print(test_zeros)"
      ],
      "execution_count": null,
      "outputs": [
        {
          "output_type": "stream",
          "name": "stdout",
          "text": [
            "[0, 0, 0, 0, 0, 0, 0, 0, 0, 0, 1, 0, 0, 0, 0, 0, 0, 0, 1, 0, 0, 0, 0, 0, 0, 0, 0, 0, 0, 0, 0, 0, 0, 0, 0, 1, 0, 1, 0, 0, 1, 0, 0, 0, 0, 0, 0, 0, 0, 0, 0, 1, 0, 0, 0, 1, 0]\n"
          ]
        }
      ]
    },
    {
      "cell_type": "code",
      "metadata": {
        "colab": {
          "base_uri": "https://localhost:8080/"
        },
        "id": "PCD2gXvzHClU",
        "outputId": "6a09b059-f722-49c9-cb08-f733a67915d2"
      },
      "source": [
        "# Pure state case\n",
        "test_ones = []\n",
        "\n",
        "for i in range(121, 182):\n",
        "    qc = QuantumCircuit(3, 3)\n",
        "\n",
        "    qc.h(0)\n",
        "    qc.append(ArbRot(*(np.array(V1[i])**2)), [2,1])\n",
        "\n",
        "    qc.barrier()\n",
        "\n",
        "    qc.x(0)\n",
        "    qc.append(ArbRotControlledTranspose(*(S_zero**2)), [0,2,1])\n",
        "\n",
        "    qc.barrier()\n",
        "\n",
        "    qc.x(0)\n",
        "    qc.append(ArbRotControlledTranspose(*(S_one**2)), [0,2,1])\n",
        "\n",
        "    qc.barrier()\n",
        "\n",
        "    qc.measure(0, 0)\n",
        "    qc.measure(1, 1)\n",
        "    qc.measure(2, 2)\n",
        "\n",
        "    shots = 12000\n",
        "    job = execute(qc, backend=casablanca, shots=shots)\n",
        "    counts = job.result().get_counts()\n",
        "    test_ones.append((int)(counts['000'] < counts['001']))\n",
        "\n",
        "print(test_ones)"
      ],
      "execution_count": null,
      "outputs": [
        {
          "output_type": "stream",
          "name": "stdout",
          "text": [
            "[0, 0, 1, 0, 0, 1, 1, 1, 1, 1, 0, 1, 1, 0, 1, 0, 1, 0, 0, 0, 1, 1, 1, 1, 1, 1, 1, 1, 1, 1, 1, 1, 1, 1, 1, 0, 1, 1, 0, 1, 1, 0, 1, 0, 0, 0, 0, 0, 1, 0, 1, 0, 0, 0, 1, 1, 0, 0, 0, 0, 1]\n"
          ]
        }
      ]
    },
    {
      "cell_type": "markdown",
      "metadata": {
        "id": "k_T3RSNGHClX"
      },
      "source": [
        "**Classifier Reports**\n",
        "\n",
        "Once we have a prediction for all the test samples, we will report the confusion matrix and some metrics (accuracy, precision, recall, F1 score)."
      ]
    },
    {
      "cell_type": "code",
      "metadata": {
        "id": "ipIZ5CdgHClZ"
      },
      "source": [
        "ytest = np.concatenate([np.zeros(len(test_zeros)), np.ones(len(test_ones))])\n",
        "\n",
        "preds = np.concatenate([test_zeros, test_ones])"
      ],
      "execution_count": null,
      "outputs": []
    },
    {
      "cell_type": "code",
      "metadata": {
        "colab": {
          "base_uri": "https://localhost:8080/",
          "height": 279
        },
        "id": "V-B3ubZuHClb",
        "outputId": "3cf66023-9fdb-434b-e8bd-e6d3d17f9ae3"
      },
      "source": [
        "import sklearn.metrics as metrics\n",
        "\n",
        "cm = metrics.confusion_matrix(ytest, preds)\n",
        "\n",
        "cm_display = metrics.ConfusionMatrixDisplay(cm, display_labels=[0,1]).plot()"
      ],
      "execution_count": null,
      "outputs": [
        {
          "output_type": "display_data",
          "data": {
            "image/png": "[encoded data removed]",
            "text/plain": [
              "<Figure size 432x288 with 2 Axes>"
            ]
          },
          "metadata": {
            "needs_background": "light"
          }
        }
      ]
    },
    {
      "cell_type": "code",
      "metadata": {
        "colab": {
          "base_uri": "https://localhost:8080/"
        },
        "id": "KaRSAt-uHClg",
        "outputId": "b402519e-66b2-4f49-8731-d6911c12f0e0"
      },
      "source": [
        "accuracy = metrics.accuracy_score(ytest,preds)\n",
        "print(\"Accuracy: \", accuracy)\n",
        "precision, recall, f_score, _ = metrics.precision_recall_fscore_support(ytest, preds, average='binary')\n",
        "print(\"Precision: \", precision)\n",
        "print(\"Recall: \", recall)\n",
        "print(\"F1: \", f_score)"
      ],
      "execution_count": null,
      "outputs": [
        {
          "output_type": "stream",
          "name": "stdout",
          "text": [
            "Accuracy:  0.7288135593220338\n",
            "Precision:  0.8536585365853658\n",
            "Recall:  0.5737704918032787\n",
            "F1:  0.6862745098039217\n"
          ]
        }
      ]
    },
    {
      "cell_type": "code",
      "metadata": {
        "colab": {
          "base_uri": "https://localhost:8080/"
        },
        "id": "mxlODxy7Os-e",
        "outputId": "a067d7a7-0631-4332-8d06-bf48af21bd73"
      },
      "source": [
        "# Mixed state case\n",
        "test2_zeros = []\n",
        "\n",
        "for i in range(121, 178):\n",
        "\n",
        "    qc = QuantumCircuit(7, 5)\n",
        "\n",
        "    qc.h(0)\n",
        "    qc.h(1)\n",
        "    qc.h(2)\n",
        "    qc.append(ArbRot(*(V0[i]**2)), [3, 4])\n",
        "\n",
        "    qc.barrier()\n",
        "    qc.x(2)\n",
        "    qc.x(0)\n",
        "    qc.x(1)\n",
        "    qc.append(ArbRotToffM2Transpose(*(U_zero[:, 0]**2)), [0, 1, 2, 3, 4])\n",
        "    qc.x(1)\n",
        "    qc.append(ArbRotToffM2Transpose(*(U_zero[:, 1]**2)), [0, 1, 2, 3, 4])\n",
        "    qc.x(0)\n",
        "    qc.x(1)\n",
        "    qc.append(ArbRotToffM2Transpose(*(U_zero[:, 2]**2)), [0, 1, 2, 3, 4])\n",
        "    qc.x(1)\n",
        "    qc.append(ArbRotToffM2Transpose(*(U_zero[:, 3]**2)), [0, 1, 2, 3, 4])\n",
        "    qc.append(ArbRotControlled(*lambda_zero), [2, 5, 6])\n",
        "\n",
        "    qc.barrier()\n",
        "    qc.x(2)\n",
        "    qc.x(0)\n",
        "    qc.x(1)\n",
        "    qc.append(ArbRotToffM2Transpose(*(U_one[:, 0]**2)), [0, 1, 2, 3, 4])\n",
        "    qc.x(1)\n",
        "    qc.append(ArbRotToffM2Transpose(*(U_one[:, 1]**2)), [0, 1, 2, 3, 4])\n",
        "    qc.x(0)\n",
        "    qc.x(1)\n",
        "    qc.append(ArbRotToffM2Transpose(*(U_one[:, 2]**2)), [0, 1, 2, 3, 4])\n",
        "    qc.x(1)\n",
        "    qc.append(ArbRotToffM2Transpose(*(U_one[:, 3]**2)), [0, 1, 2, 3, 4])\n",
        "    qc.append(ArbRotControlled(*lambda_one), [2, 5, 6])\n",
        "    qc.cx(1, 6)\n",
        "    qc.cx(0, 5)\n",
        "\n",
        "    qc.barrier()\n",
        "\n",
        "    qc.measure(2, 0)\n",
        "    qc.measure(3, 1)\n",
        "    qc.measure(4, 2)\n",
        "    qc.measure(5, 3)\n",
        "    qc.measure(6, 4)\n",
        "\n",
        "    counts = execute(qc, backend=casablanca, shots=50000).result().get_counts()\n",
        "    test2_zeros.append((int)(counts['00000'] < counts['00001']))\n",
        "\n",
        "print(test2_zeros)"
      ],
      "execution_count": null,
      "outputs": [
        {
          "output_type": "stream",
          "name": "stdout",
          "text": [
            "[0, 0, 0, 0, 0, 1, 0, 0, 0, 0, 1, 0, 0, 0, 0, 0, 0, 0, 1, 0, 0, 0, 0, 0, 0, 0, 0, 0, 0, 0, 0, 0, 0, 0, 0, 1, 0, 1, 0, 0, 1, 0, 1, 0, 0, 0, 0, 0, 0, 0, 0, 1, 0, 0, 0, 1, 0]\n"
          ]
        }
      ]
    },
    {
      "cell_type": "code",
      "metadata": {
        "colab": {
          "base_uri": "https://localhost:8080/"
        },
        "id": "xzIjCJzgOs-j",
        "outputId": "dae141ef-56cd-4283-b08a-02408efa84ed"
      },
      "source": [
        "# Mixed state case\n",
        "test2_ones = []\n",
        "\n",
        "for i in range(121, 182):\n",
        "\n",
        "    qc = QuantumCircuit(7, 5)\n",
        "\n",
        "    qc.h(0)\n",
        "    qc.h(1)\n",
        "    qc.h(2)\n",
        "    qc.append(ArbRot(*(V1[i]**2)), [3, 4])\n",
        "\n",
        "    qc.barrier()\n",
        "    qc.x(2)\n",
        "    qc.x(0)\n",
        "    qc.x(1)\n",
        "    qc.append(ArbRotToffM2Transpose(*(U_zero[:, 0]**2)), [0, 1, 2, 3, 4])\n",
        "    qc.x(1)\n",
        "    qc.append(ArbRotToffM2Transpose(*(U_zero[:, 1]**2)), [0, 1, 2, 3, 4])\n",
        "    qc.x(0)\n",
        "    qc.x(1)\n",
        "    qc.append(ArbRotToffM2Transpose(*(U_zero[:, 2]**2)), [0, 1, 2, 3, 4])\n",
        "    qc.x(1)\n",
        "    qc.append(ArbRotToffM2Transpose(*(U_zero[:, 3]**2)), [0, 1, 2, 3, 4])\n",
        "    qc.append(ArbRotControlled(*lambda_zero), [2, 5, 6])\n",
        "\n",
        "    qc.barrier()\n",
        "    qc.x(2)\n",
        "    qc.x(0)\n",
        "    qc.x(1)\n",
        "    qc.append(ArbRotToffM2Transpose(*(U_one[:, 0]**2)), [0, 1, 2, 3, 4])\n",
        "    qc.x(1)\n",
        "    qc.append(ArbRotToffM2Transpose(*(U_one[:, 1]**2)), [0, 1, 2, 3, 4])\n",
        "    qc.x(0)\n",
        "    qc.x(1)\n",
        "    qc.append(ArbRotToffM2Transpose(*(U_one[:, 2]**2)), [0, 1, 2, 3, 4])\n",
        "    qc.x(1)\n",
        "    qc.append(ArbRotToffM2Transpose(*(U_one[:, 3]**2)), [0, 1, 2, 3, 4])\n",
        "    qc.append(ArbRotControlled(*lambda_one), [2, 5, 6])\n",
        "    qc.cx(1, 6)\n",
        "    qc.cx(0, 5)\n",
        "\n",
        "    qc.barrier()\n",
        "\n",
        "    qc.measure(2, 0)\n",
        "    qc.measure(3, 1)\n",
        "    qc.measure(4, 2)\n",
        "    qc.measure(5, 3)\n",
        "    qc.measure(6, 4)\n",
        "\n",
        "    counts = execute(qc, backend=casablanca, shots=50000).result().get_counts()\n",
        "    test2_ones.append((int)(counts['00000'] < counts['00001']))\n",
        "\n",
        "print(test2_ones)"
      ],
      "execution_count": null,
      "outputs": [
        {
          "output_type": "stream",
          "name": "stdout",
          "text": [
            "[0, 1, 1, 1, 1, 1, 1, 1, 1, 1, 0, 1, 1, 1, 1, 1, 1, 0, 1, 1, 1, 1, 1, 1, 1, 1, 1, 1, 1, 1, 1, 1, 1, 1, 1, 0, 1, 1, 1, 1, 1, 1, 1, 1, 0, 0, 1, 0, 1, 0, 1, 1, 0, 1, 1, 1, 0, 0, 1, 1, 1]\n"
          ]
        }
      ]
    },
    {
      "cell_type": "markdown",
      "metadata": {
        "id": "2pjP59N-Os-m"
      },
      "source": [
        "**Classifier Reports**\n",
        "\n",
        "Once we have a prediction for all the test samples, we will report the confusion matrix and some metrics (accuracy, precision, recall, F1 score)."
      ]
    },
    {
      "cell_type": "code",
      "metadata": {
        "id": "B9-eFd_MOs-n"
      },
      "source": [
        "ytest = np.concatenate([np.zeros(len(test2_zeros)), np.ones(len(test2_ones))])\n",
        "\n",
        "preds2 = np.concatenate([test2_zeros, test2_ones])"
      ],
      "execution_count": null,
      "outputs": []
    },
    {
      "cell_type": "code",
      "metadata": {
        "colab": {
          "base_uri": "https://localhost:8080/",
          "height": 283
        },
        "id": "PQ6NZpcLOs-p",
        "outputId": "a9308da7-3b39-4c66-f99e-95d4742e67af"
      },
      "source": [
        "import sklearn.metrics as metrics\n",
        "\n",
        "cm2 = metrics.confusion_matrix(ytest, preds2)\n",
        "\n",
        "cm2_display = metrics.ConfusionMatrixDisplay(cm2, display_labels=[0,1]).plot()"
      ],
      "execution_count": null,
      "outputs": [
        {
          "output_type": "display_data",
          "data": {
            "image/png": "[encoded data removed]",
            "text/plain": [
              "<Figure size 432x288 with 2 Axes>"
            ]
          },
          "metadata": {
            "needs_background": "light"
          }
        }
      ]
    },
    {
      "cell_type": "code",
      "metadata": {
        "colab": {
          "base_uri": "https://localhost:8080/"
        },
        "id": "3x3D-0_fOs-q",
        "outputId": "26513576-60cf-435b-afb6-ee285c36c0c9"
      },
      "source": [
        "accuracy = metrics.accuracy_score(ytest,preds2)\n",
        "print(\"Accuracy: \", accuracy)\n",
        "precision, recall, f_score, _ = metrics.precision_recall_fscore_support(ytest, preds2, average='binary')\n",
        "print(\"Precision: \", precision)\n",
        "print(\"Recall: \", recall)\n",
        "print(\"F1: \", f_score)"
      ],
      "execution_count": null,
      "outputs": [
        {
          "output_type": "stream",
          "name": "stdout",
          "text": [
            "Accuracy:  0.8305084745762712\n",
            "Precision:  0.847457627118644\n",
            "Recall:  0.819672131147541\n",
            "F1:  0.8333333333333333\n"
          ]
        }
      ]
    },
    {
      "cell_type": "markdown",
      "metadata": {
        "id": "nVKLAsxHTOLb"
      },
      "source": [
        "## Acknowledgements\n",
        "\n",
        "The team thanks specially to our mentor Fabio González for his valuable help and support, and to Vladimir Vargas-Calderón for the useful discussions we had during the completion of this project. Also, we acknowledge the use of IBM Quantum services."
      ]
    },
    {
      "cell_type": "markdown",
      "metadata": {
        "id": "hbx3OuC6TDbB"
      },
      "source": [
        "## References\n",
        "\n",
        "[González2021] Fabio  A.  González,  Alejandro  Gallego,  Santiago  Toledo-Cortés,  and Vladimir Vargas-Calderón.  Learning with Density Matrices and Random Features.  2021.  URL http://arxiv.org/abs/2102.04394.\n",
        "\n",
        "[QTML2021] Vladimir Vargas-Calderón, Fabio A. González, Herbert Vinck-Posada. Optimisation-Free Classification with Quantum Circuit Measurements. 2021.\n",
        "\n",
        "[Useche2021] Diego H Useche, Andres Giraldo-Carvajal, Hernan M Zuluaga-Bucheli, Jose A Jaramillo-Villegas, and Fabio A González. Quantum measurement classification with qudits. arXiv preprint arXiv:2107.09781, 2021."
      ]
    }
  ]
}